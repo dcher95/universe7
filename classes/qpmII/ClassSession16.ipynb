{
 "cells": [
  {
   "cell_type": "code",
   "execution_count": 13,
   "metadata": {},
   "outputs": [],
   "source": [
    "import pandas as pd\n",
    "import statsmodels.api as sm\n",
    "import matplotlib.pyplot as plt"
   ]
  },
  {
   "cell_type": "code",
   "execution_count": 3,
   "metadata": {},
   "outputs": [],
   "source": [
    "presElect = pd.read_csv(\"presElect.csv\", index_col = 0)\n",
    "\n",
    "# model = ols(\"Y ~ X\", data=presElect)\n",
    "# results = model.fit()\n",
    "# results.summary()"
   ]
  },
  {
   "cell_type": "code",
   "execution_count": 7,
   "metadata": {},
   "outputs": [
    {
     "data": {
      "text/html": [
       "<div>\n",
       "<style scoped>\n",
       "    .dataframe tbody tr th:only-of-type {\n",
       "        vertical-align: middle;\n",
       "    }\n",
       "\n",
       "    .dataframe tbody tr th {\n",
       "        vertical-align: top;\n",
       "    }\n",
       "\n",
       "    .dataframe thead th {\n",
       "        text-align: right;\n",
       "    }\n",
       "</style>\n",
       "<table border=\"1\" class=\"dataframe\">\n",
       "  <thead>\n",
       "    <tr style=\"text-align: right;\">\n",
       "      <th></th>\n",
       "      <th>year</th>\n",
       "      <th>q2gdp</th>\n",
       "      <th>vote</th>\n",
       "      <th>term</th>\n",
       "      <th>JuneApp</th>\n",
       "      <th>Inc</th>\n",
       "    </tr>\n",
       "  </thead>\n",
       "  <tbody>\n",
       "    <tr>\n",
       "      <th>1</th>\n",
       "      <td>1948</td>\n",
       "      <td>7.6</td>\n",
       "      <td>52.299999</td>\n",
       "      <td>1</td>\n",
       "      <td>-8</td>\n",
       "      <td>0</td>\n",
       "    </tr>\n",
       "    <tr>\n",
       "      <th>2</th>\n",
       "      <td>1952</td>\n",
       "      <td>0.4</td>\n",
       "      <td>44.599998</td>\n",
       "      <td>1</td>\n",
       "      <td>-26</td>\n",
       "      <td>0</td>\n",
       "    </tr>\n",
       "    <tr>\n",
       "      <th>3</th>\n",
       "      <td>1956</td>\n",
       "      <td>3.2</td>\n",
       "      <td>57.799999</td>\n",
       "      <td>0</td>\n",
       "      <td>50</td>\n",
       "      <td>1</td>\n",
       "    </tr>\n",
       "    <tr>\n",
       "      <th>4</th>\n",
       "      <td>1960</td>\n",
       "      <td>-1.9</td>\n",
       "      <td>49.900002</td>\n",
       "      <td>1</td>\n",
       "      <td>30</td>\n",
       "      <td>0</td>\n",
       "    </tr>\n",
       "    <tr>\n",
       "      <th>5</th>\n",
       "      <td>1964</td>\n",
       "      <td>4.7</td>\n",
       "      <td>61.299999</td>\n",
       "      <td>0</td>\n",
       "      <td>59</td>\n",
       "      <td>1</td>\n",
       "    </tr>\n",
       "  </tbody>\n",
       "</table>\n",
       "</div>"
      ],
      "text/plain": [
       "   year  q2gdp       vote  term  JuneApp  Inc\n",
       "1  1948    7.6  52.299999     1       -8    0\n",
       "2  1952    0.4  44.599998     1      -26    0\n",
       "3  1956    3.2  57.799999     0       50    1\n",
       "4  1960   -1.9  49.900002     1       30    0\n",
       "5  1964    4.7  61.299999     0       59    1"
      ]
     },
     "metadata": {},
     "output_type": "display_data"
    },
    {
     "data": {
      "text/plain": [
       "Index(['year', 'q2gdp', 'vote', 'term', 'JuneApp', 'Inc'], dtype='object')"
      ]
     },
     "execution_count": 7,
     "metadata": {},
     "output_type": "execute_result"
    }
   ],
   "source": [
    "display(presElect.head())\n",
    "presElect.columns"
   ]
  },
  {
   "cell_type": "markdown",
   "metadata": {},
   "source": [
    "1. Fit a regression with vote as the outcome and q2gdp as the explanatory variable. \n",
    "- Explain what the results mean.\n",
    "- You should be able to explain what every part of the R output for this means using the summary function"
   ]
  },
  {
   "cell_type": "code",
   "execution_count": 10,
   "metadata": {},
   "outputs": [
    {
     "name": "stdout",
     "output_type": "stream",
     "text": [
      "                            OLS Regression Results                            \n",
      "==============================================================================\n",
      "Dep. Variable:                   vote   R-squared:                       0.367\n",
      "Model:                            OLS   Adj. R-squared:                  0.327\n",
      "Method:                 Least Squares   F-statistic:                     9.259\n",
      "Date:                Wed, 23 Oct 2024   Prob (F-statistic):            0.00775\n",
      "Time:                        10:41:47   Log-Likelihood:                -50.899\n",
      "No. Observations:                  18   AIC:                             105.8\n",
      "Df Residuals:                      16   BIC:                             107.6\n",
      "Df Model:                           1                                         \n",
      "Covariance Type:            nonrobust                                         \n",
      "==============================================================================\n",
      "                 coef    std err          t      P>|t|      [0.025      0.975]\n",
      "------------------------------------------------------------------------------\n",
      "const         49.2711      1.348     36.557      0.000      46.414      52.128\n",
      "q2gdp          0.7536      0.248      3.043      0.008       0.229       1.279\n",
      "==============================================================================\n",
      "Omnibus:                        0.856   Durbin-Watson:                   2.434\n",
      "Prob(Omnibus):                  0.652   Jarque-Bera (JB):                0.821\n",
      "Skew:                           0.342   Prob(JB):                        0.663\n",
      "Kurtosis:                       2.208   Cond. No.                         7.28\n",
      "==============================================================================\n",
      "\n",
      "Notes:\n",
      "[1] Standard Errors assume that the covariance matrix of the errors is correctly specified.\n"
     ]
    },
    {
     "name": "stderr",
     "output_type": "stream",
     "text": [
      "/Users/dsc/miniconda3/envs/herb/lib/python3.12/site-packages/scipy/stats/_axis_nan_policy.py:418: UserWarning: `kurtosistest` p-value may be inaccurate with fewer than 20 observations; only n=18 observations were given.\n",
      "  return hypotest_fun_in(*args, **kwds)\n"
     ]
    }
   ],
   "source": [
    "# Define the dependent and independent variables\n",
    "X1 = presElect['q2gdp']  # Explanatory variable\n",
    "y1 = presElect['vote']   # Outcome variable\n",
    "\n",
    "# Add a constant to the model (intercept)\n",
    "X1 = sm.add_constant(X1)\n",
    "\n",
    "# Fit the regression model\n",
    "model1 = sm.OLS(y1, X1).fit()\n",
    "\n",
    "# Display the summary of the regression results\n",
    "print(model1.summary())\n"
   ]
  },
  {
   "cell_type": "markdown",
   "metadata": {},
   "source": [
    "2. Fit a regression model with vote as the outcome and JuneApp as the explanatory variable."
   ]
  },
  {
   "cell_type": "code",
   "execution_count": 8,
   "metadata": {},
   "outputs": [
    {
     "name": "stdout",
     "output_type": "stream",
     "text": [
      "                            OLS Regression Results                            \n",
      "==============================================================================\n",
      "Dep. Variable:                   vote   R-squared:                       0.666\n",
      "Model:                            OLS   Adj. R-squared:                  0.646\n",
      "Method:                 Least Squares   F-statistic:                     31.97\n",
      "Date:                Wed, 23 Oct 2024   Prob (F-statistic):           3.59e-05\n",
      "Time:                        10:33:34   Log-Likelihood:                -45.127\n",
      "No. Observations:                  18   AIC:                             94.25\n",
      "Df Residuals:                      16   BIC:                             96.03\n",
      "Df Model:                           1                                         \n",
      "Covariance Type:            nonrobust                                         \n",
      "==============================================================================\n",
      "                 coef    std err          t      P>|t|      [0.025      0.975]\n",
      "------------------------------------------------------------------------------\n",
      "const         50.7589      0.771     65.825      0.000      49.124      52.394\n",
      "JuneApp        0.1746      0.031      5.654      0.000       0.109       0.240\n",
      "==============================================================================\n",
      "Omnibus:                        2.150   Durbin-Watson:                   2.270\n",
      "Prob(Omnibus):                  0.341   Jarque-Bera (JB):                0.755\n",
      "Skew:                           0.443   Prob(JB):                        0.686\n",
      "Kurtosis:                       3.471   Cond. No.                         25.9\n",
      "==============================================================================\n",
      "\n",
      "Notes:\n",
      "[1] Standard Errors assume that the covariance matrix of the errors is correctly specified.\n"
     ]
    },
    {
     "name": "stderr",
     "output_type": "stream",
     "text": [
      "/Users/dsc/miniconda3/envs/herb/lib/python3.12/site-packages/scipy/stats/_axis_nan_policy.py:418: UserWarning: `kurtosistest` p-value may be inaccurate with fewer than 20 observations; only n=18 observations were given.\n",
      "  return hypotest_fun_in(*args, **kwds)\n"
     ]
    }
   ],
   "source": [
    "# Define the dependent and independent variables\n",
    "X2 = presElect['JuneApp']  # Explanatory variable\n",
    "y2 = presElect['vote']   # Outcome variable\n",
    "\n",
    "# Add a constant to the model (intercept)\n",
    "X2 = sm.add_constant(X2)\n",
    "\n",
    "# Fit the regression model\n",
    "model2 = sm.OLS(y2, X2).fit()\n",
    "\n",
    "# Display the summary of the regression results\n",
    "print(model2.summary())"
   ]
  },
  {
   "cell_type": "markdown",
   "metadata": {},
   "source": [
    "3. Now fit a regression with JuneApp as the outcome and q2gdp as the explanatory variable."
   ]
  },
  {
   "cell_type": "code",
   "execution_count": 11,
   "metadata": {},
   "outputs": [
    {
     "name": "stdout",
     "output_type": "stream",
     "text": [
      "                            OLS Regression Results                            \n",
      "==============================================================================\n",
      "Dep. Variable:                JuneApp   R-squared:                       0.125\n",
      "Model:                            OLS   Adj. R-squared:                  0.070\n",
      "Method:                 Least Squares   F-statistic:                     2.285\n",
      "Date:                Wed, 23 Oct 2024   Prob (F-statistic):              0.150\n",
      "Time:                        10:42:17   Log-Likelihood:                -81.570\n",
      "No. Observations:                  18   AIC:                             167.1\n",
      "Df Residuals:                      16   BIC:                             168.9\n",
      "Df Model:                           1                                         \n",
      "Covariance Type:            nonrobust                                         \n",
      "==============================================================================\n",
      "                 coef    std err          t      P>|t|      [0.025      0.975]\n",
      "------------------------------------------------------------------------------\n",
      "const         -0.5142      7.407     -0.069      0.946     -16.216      15.188\n",
      "q2gdp          2.0573      1.361      1.512      0.150      -0.828       4.943\n",
      "==============================================================================\n",
      "Omnibus:                        3.032   Durbin-Watson:                   1.568\n",
      "Prob(Omnibus):                  0.220   Jarque-Bera (JB):                1.918\n",
      "Skew:                           0.799   Prob(JB):                        0.383\n",
      "Kurtosis:                       2.952   Cond. No.                         7.28\n",
      "==============================================================================\n",
      "\n",
      "Notes:\n",
      "[1] Standard Errors assume that the covariance matrix of the errors is correctly specified.\n"
     ]
    },
    {
     "name": "stderr",
     "output_type": "stream",
     "text": [
      "/Users/dsc/miniconda3/envs/herb/lib/python3.12/site-packages/scipy/stats/_axis_nan_policy.py:418: UserWarning: `kurtosistest` p-value may be inaccurate with fewer than 20 observations; only n=18 observations were given.\n",
      "  return hypotest_fun_in(*args, **kwds)\n"
     ]
    }
   ],
   "source": [
    "# Define the dependent and independent variables\n",
    "X3 = presElect['q2gdp']  # Explanatory variable\n",
    "y3 = presElect['JuneApp']   # Outcome variable\n",
    "\n",
    "# Add a constant to the model (intercept)\n",
    "X3 = sm.add_constant(X3)\n",
    "\n",
    "# Fit the regression model\n",
    "model3 = sm.OLS(y3, X3).fit()\n",
    "\n",
    "# Display the summary of the regression results\n",
    "print(model3.summary())"
   ]
  },
  {
   "cell_type": "markdown",
   "metadata": {},
   "source": [
    "4. Now use the residuals from (1) as the outcome and the residuals from (3) as the explanatory variable. Plot these against each other and add the regression line. What do you think this means?"
   ]
  },
  {
   "cell_type": "code",
   "execution_count": 14,
   "metadata": {},
   "outputs": [
    {
     "data": {
      "image/png": "[encoded data removed]",
      "text/plain": [
       "<Figure size 640x480 with 1 Axes>"
      ]
     },
     "metadata": {},
     "output_type": "display_data"
    },
    {
     "name": "stdout",
     "output_type": "stream",
     "text": [
      "                            OLS Regression Results                            \n",
      "==============================================================================\n",
      "Dep. Variable:                      y   R-squared:                       0.655\n",
      "Model:                            OLS   Adj. R-squared:                  0.633\n",
      "Method:                 Least Squares   F-statistic:                     30.32\n",
      "Date:                Wed, 23 Oct 2024   Prob (F-statistic):           4.79e-05\n",
      "Time:                        10:43:45   Log-Likelihood:                -41.333\n",
      "No. Observations:                  18   AIC:                             86.67\n",
      "Df Residuals:                      16   BIC:                             88.45\n",
      "Df Model:                           1                                         \n",
      "Covariance Type:            nonrobust                                         \n",
      "==============================================================================\n",
      "                 coef    std err          t      P>|t|      [0.025      0.975]\n",
      "------------------------------------------------------------------------------\n",
      "const       3.997e-15      0.601   6.65e-15      1.000      -1.274       1.274\n",
      "0              0.1472      0.027      5.506      0.000       0.091       0.204\n",
      "==============================================================================\n",
      "Omnibus:                        0.260   Durbin-Watson:                   2.555\n",
      "Prob(Omnibus):                  0.878   Jarque-Bera (JB):                0.045\n",
      "Skew:                          -0.099   Prob(JB):                        0.978\n",
      "Kurtosis:                       2.857   Cond. No.                         22.5\n",
      "==============================================================================\n",
      "\n",
      "Notes:\n",
      "[1] Standard Errors assume that the covariance matrix of the errors is correctly specified.\n"
     ]
    },
    {
     "name": "stderr",
     "output_type": "stream",
     "text": [
      "/Users/dsc/miniconda3/envs/herb/lib/python3.12/site-packages/scipy/stats/_axis_nan_policy.py:418: UserWarning: `kurtosistest` p-value may be inaccurate with fewer than 20 observations; only n=18 observations were given.\n",
      "  return hypotest_fun_in(*args, **kwds)\n"
     ]
    }
   ],
   "source": [
    "residuals1 = model1.resid\n",
    "residuals3 = model3.resid\n",
    "\n",
    "residual_model = sm.OLS(residuals1, sm.add_constant(residuals3)).fit()\n",
    "\n",
    "# Plot\n",
    "plt.scatter(residuals3, residuals1, color='blue', label='Residuals')\n",
    "plt.xlabel('Residuals from (3): JuneApp ~ q2gdp')\n",
    "plt.ylabel('Residuals from (1): vote ~ q2gdp')\n",
    "\n",
    "x = sm.add_constant(residuals3)\n",
    "y_pred = residual_model.predict(x)\n",
    "plt.plot(residuals3, y_pred, color='red', label='Regression Line')\n",
    "plt.legend()\n",
    "plt.title('Residuals Plot with Regression Line')\n",
    "plt.show()\n",
    "\n",
    "print(residual_model.summary())\n",
    "\n",
    "# By using the residuals, you are examining the part of vote (y1) that is not explained by q2gdp(X1), and similarly, the part of JuneApp(y3) that is not explained by q2gdp (X3).\n",
    "# There is a significant correlation therefore it suggests that there is a relationship between vote(y1) and JuneApp(y3) beyond what is explained by q2gdp(X1, X3)."
   ]
  },
  {
   "cell_type": "markdown",
   "metadata": {},
   "source": [
    "5. Now use the vote as the outcome and control for both JuneApp and q2gdp. Explain how this result relates to (4)"
   ]
  },
  {
   "cell_type": "code",
   "execution_count": 15,
   "metadata": {},
   "outputs": [
    {
     "name": "stdout",
     "output_type": "stream",
     "text": [
      "                            OLS Regression Results                            \n",
      "==============================================================================\n",
      "Dep. Variable:                   vote   R-squared:                       0.781\n",
      "Model:                            OLS   Adj. R-squared:                  0.752\n",
      "Method:                 Least Squares   F-statistic:                     26.77\n",
      "Date:                Wed, 23 Oct 2024   Prob (F-statistic):           1.12e-05\n",
      "Time:                        10:48:17   Log-Likelihood:                -41.333\n",
      "No. Observations:                  18   AIC:                             88.67\n",
      "Df Residuals:                      15   BIC:                             91.34\n",
      "Df Model:                           2                                         \n",
      "Covariance Type:            nonrobust                                         \n",
      "==============================================================================\n",
      "                 coef    std err          t      P>|t|      [0.025      0.975]\n",
      "------------------------------------------------------------------------------\n",
      "const         49.3468      0.818     60.305      0.000      47.603      51.091\n",
      "q2gdp          0.4508      0.161      2.805      0.013       0.108       0.793\n",
      "JuneApp        0.1472      0.028      5.331      0.000       0.088       0.206\n",
      "==============================================================================\n",
      "Omnibus:                        0.260   Durbin-Watson:                   2.555\n",
      "Prob(Omnibus):                  0.878   Jarque-Bera (JB):                0.045\n",
      "Skew:                          -0.099   Prob(JB):                        0.978\n",
      "Kurtosis:                       2.857   Cond. No.                         33.3\n",
      "==============================================================================\n",
      "\n",
      "Notes:\n",
      "[1] Standard Errors assume that the covariance matrix of the errors is correctly specified.\n"
     ]
    },
    {
     "name": "stderr",
     "output_type": "stream",
     "text": [
      "/Users/dsc/miniconda3/envs/herb/lib/python3.12/site-packages/scipy/stats/_axis_nan_policy.py:418: UserWarning: `kurtosistest` p-value may be inaccurate with fewer than 20 observations; only n=18 observations were given.\n",
      "  return hypotest_fun_in(*args, **kwds)\n"
     ]
    }
   ],
   "source": [
    "X5 = presElect[['q2gdp', 'JuneApp']]\n",
    "X5 = sm.add_constant(X5)  # Add constant for intercept\n",
    "y5 = presElect['vote']\n",
    "\n",
    "# Fit the model\n",
    "model5 = sm.OLS(y5, X5).fit()\n",
    "\n",
    "# Display the summary\n",
    "print(model5.summary())\n",
    "\n",
    "# When you now include both JuneApp and q2gdp in the regression together, you are effectively testing if JuneApp contributes to explaining vote even when q2gdp is already considered. If the coefficient for JuneApp remains significant, it confirms that JuneApp provides additional information about vote, supporting the findings from the residual analysis ~ Q4.\n"
   ]
  },
  {
   "cell_type": "markdown",
   "metadata": {},
   "source": [
    "6. Remove 2016 from the data and try and find a model (possibly including a basis expansion) that provides the best fit."
   ]
  },
  {
   "cell_type": "code",
   "execution_count": 30,
   "metadata": {},
   "outputs": [
    {
     "name": "stdout",
     "output_type": "stream",
     "text": [
      "                            OLS Regression Results                            \n",
      "==============================================================================\n",
      "Dep. Variable:                   vote   R-squared:                       0.854\n",
      "Model:                            OLS   Adj. R-squared:                  0.740\n",
      "Method:                 Least Squares   F-statistic:                     7.497\n",
      "Date:                Wed, 23 Oct 2024   Prob (F-statistic):            0.00371\n",
      "Time:                        11:06:53   Log-Likelihood:                -36.066\n",
      "No. Observations:                  17   AIC:                             88.13\n",
      "Df Residuals:                       9   BIC:                             94.80\n",
      "Df Model:                           7                                         \n",
      "Covariance Type:            nonrobust                                         \n",
      "===================================================================================\n",
      "                      coef    std err          t      P>|t|      [0.025      0.975]\n",
      "-----------------------------------------------------------------------------------\n",
      "const              49.8219      2.461     20.247      0.000      44.255      55.388\n",
      "q2gdp               0.1339      0.547      0.245      0.812      -1.104       1.372\n",
      "JuneApp             0.0781      0.075      1.042      0.325      -0.092       0.248\n",
      "q2gdp_squared      -0.0186      0.052     -0.358      0.729      -0.136       0.099\n",
      "JuneApp_squared    -0.0014      0.003     -0.459      0.657      -0.009       0.006\n",
      "JuneApp_q2gdp       0.0178      0.013      1.370      0.204      -0.012       0.047\n",
      "q2gdp_cubed         0.0061      0.009      0.711      0.495      -0.013       0.025\n",
      "JuneApp_cubed    3.097e-05   6.41e-05      0.483      0.640      -0.000       0.000\n",
      "==============================================================================\n",
      "Omnibus:                       13.399   Durbin-Watson:                   2.368\n",
      "Prob(Omnibus):                  0.001   Jarque-Bera (JB):               11.527\n",
      "Skew:                          -1.364   Prob(JB):                      0.00314\n",
      "Kurtosis:                       5.972   Cond. No.                     2.21e+05\n",
      "==============================================================================\n",
      "\n",
      "Notes:\n",
      "[1] Standard Errors assume that the covariance matrix of the errors is correctly specified.\n",
      "[2] The condition number is large, 2.21e+05. This might indicate that there are\n",
      "strong multicollinearity or other numerical problems.\n"
     ]
    },
    {
     "name": "stderr",
     "output_type": "stream",
     "text": [
      "/Users/dsc/miniconda3/envs/herb/lib/python3.12/site-packages/scipy/stats/_axis_nan_policy.py:418: UserWarning: `kurtosistest` p-value may be inaccurate with fewer than 20 observations; only n=17 observations were given.\n",
      "  return hypotest_fun_in(*args, **kwds)\n"
     ]
    }
   ],
   "source": [
    "# Remove the year 2016 from the data\n",
    "presElect_filtered = presElect[presElect['year'] != 2016].copy()\n",
    "y_filtered = presElect_filtered['vote']\n",
    "\n",
    "# Basis expansion: Adding polynomial terms for q2gdp and JuneApp\n",
    "presElect_filtered['q2gdp_squared'] = presElect_filtered['q2gdp'] ** 2\n",
    "presElect_filtered['JuneApp_squared'] = presElect_filtered['JuneApp'] ** 2\n",
    "presElect_filtered['q2gdp_cubed'] = presElect_filtered['q2gdp'] ** 3\n",
    "presElect_filtered['JuneApp_cubed'] = presElect_filtered['JuneApp'] ** 3\n",
    "presElect_filtered['JuneApp_q2gdp'] = presElect_filtered['q2gdp'] * presElect_filtered['JuneApp']\n",
    "\n",
    "# Prepare the expanded set of explanatory variables\n",
    "X_filtered_expanded = presElect_filtered[['q2gdp', 'JuneApp', 'q2gdp_squared', 'JuneApp_squared', 'JuneApp_q2gdp', 'q2gdp_cubed', 'JuneApp_cubed']].copy()\n",
    "\n",
    "# Add a constant to the expanded model (intercept)\n",
    "X_filtered_expanded = sm.add_constant(X_filtered_expanded)\n",
    "\n",
    "# Fit the expanded regression model\n",
    "model_filtered_expanded = sm.OLS(y_filtered, X_filtered_expanded).fit()\n",
    "\n",
    "# Display the summary of the expanded regression results\n",
    "print(model_filtered_expanded.summary())\n"
   ]
  },
  {
   "cell_type": "markdown",
   "metadata": {},
   "source": [
    "7. Compare the predictive performance of your model for 2016 to a simple model including just JuneApp, q2gdp, and Inc."
   ]
  },
  {
   "cell_type": "code",
   "execution_count": 26,
   "metadata": {},
   "outputs": [
    {
     "name": "stdout",
     "output_type": "stream",
     "text": [
      "                            OLS Regression Results                            \n",
      "==============================================================================\n",
      "Dep. Variable:                   vote   R-squared:                       0.780\n",
      "Model:                            OLS   Adj. R-squared:                  0.749\n",
      "Method:                 Least Squares   F-statistic:                     24.88\n",
      "Date:                Wed, 23 Oct 2024   Prob (F-statistic):           2.46e-05\n",
      "Time:                        11:05:07   Log-Likelihood:                -39.511\n",
      "No. Observations:                  17   AIC:                             85.02\n",
      "Df Residuals:                      14   BIC:                             87.52\n",
      "Df Model:                           2                                         \n",
      "Covariance Type:            nonrobust                                         \n",
      "==============================================================================\n",
      "                 coef    std err          t      P>|t|      [0.025      0.975]\n",
      "------------------------------------------------------------------------------\n",
      "const         49.3781      0.877     56.333      0.000      47.498      51.258\n",
      "q2gdp          0.4477      0.168      2.670      0.018       0.088       0.807\n",
      "JuneApp        0.1474      0.029      5.155      0.000       0.086       0.209\n",
      "==============================================================================\n",
      "Omnibus:                        0.146   Durbin-Watson:                   2.537\n",
      "Prob(Omnibus):                  0.930   Jarque-Bera (JB):                0.099\n",
      "Skew:                          -0.118   Prob(JB):                        0.952\n",
      "Kurtosis:                       2.710   Cond. No.                         34.4\n",
      "==============================================================================\n",
      "\n",
      "Notes:\n",
      "[1] Standard Errors assume that the covariance matrix of the errors is correctly specified.\n"
     ]
    },
    {
     "name": "stderr",
     "output_type": "stream",
     "text": [
      "/Users/dsc/miniconda3/envs/herb/lib/python3.12/site-packages/scipy/stats/_axis_nan_policy.py:418: UserWarning: `kurtosistest` p-value may be inaccurate with fewer than 20 observations; only n=17 observations were given.\n",
      "  return hypotest_fun_in(*args, **kwds)\n"
     ]
    }
   ],
   "source": [
    "# Display the summary of the regression results\n",
    "X_filtered = presElect_filtered[['q2gdp', 'JuneApp']]\n",
    "\n",
    "X_filtered = sm.add_constant(X_filtered)\n",
    "\n",
    "# Fit the regression model\n",
    "model_filtered = sm.OLS(y_filtered, X_filtered).fit()\n",
    "\n",
    "print(model_filtered.summary())"
   ]
  },
  {
   "cell_type": "code",
   "execution_count": 37,
   "metadata": {},
   "outputs": [
    {
     "data": {
      "text/plain": [
       "18    50.5\n",
       "dtype: float64"
      ]
     },
     "execution_count": 37,
     "metadata": {},
     "output_type": "execute_result"
    }
   ],
   "source": [
    "# Compare on 2016 data\n",
    "presElect_2016 = presElect[presElect['year'] == 2016].copy()\n",
    "y_2016 = presElect_2016['vote']\n",
    "\n",
    "# Prepare the expanded set of explanatory variables\n",
    "X_2016 = presElect_2016[['q2gdp', 'JuneApp']]\n",
    "X_2016 = sm.add_constant(X_2016)\n",
    "\n",
    "# Fit the regression model\n",
    "model_2016 = sm.OLS(y_2016, X_2016).fit()\n",
    "\n",
    "# Display the summary of the regression results\n",
    "model_2016.predict(X_2016)\n"
   ]
  },
  {
   "cell_type": "code",
   "execution_count": null,
   "metadata": {},
   "outputs": [],
   "source": [
    "# same for more complicated stuff\n",
    "# # Remove the year 2016 from the data\n",
    "# presElect_filtered = presElect[presElect['year'] != 2016].copy()\n",
    "# y_filtered = presElect_filtered['vote']\n",
    "\n",
    "# # Basis expansion: Adding polynomial terms for q2gdp and JuneApp\n",
    "# presElect_filtered['q2gdp_squared'] = presElect_filtered['q2gdp'] ** 2\n",
    "# presElect_filtered['JuneApp_squared'] = presElect_filtered['JuneApp'] ** 2\n",
    "# presElect_filtered['q2gdp_cubed'] = presElect_filtered['q2gdp'] ** 3\n",
    "# presElect_filtered['JuneApp_cubed'] = presElect_filtered['JuneApp'] ** 3\n",
    "# presElect_filtered['JuneApp_q2gdp'] = presElect_filtered['q2gdp'] * presElect_filtered['JuneApp']\n",
    "\n",
    "# # Prepare the expanded set of explanatory variables\n",
    "# X_filtered_expanded = presElect_filtered[['q2gdp', 'JuneApp', 'q2gdp_squared', 'JuneApp_squared', 'JuneApp_q2gdp', 'q2gdp_cubed', 'JuneApp_cubed']].copy()\n",
    "\n",
    "# # Add a constant to the expanded model (intercept)\n",
    "# X_filtered_expanded = sm.add_constant(X_filtered_expanded)\n",
    "\n",
    "# # Fit the expanded regression model\n",
    "# model_filtered_expanded = sm.OLS(y_filtered, X_filtered_expanded).fit()\n",
    "\n",
    "# # Display the summary of the expanded regression results\n",
    "# print(model_filtered_expanded.summary())"
   ]
  }
 ],
 "metadata": {
  "kernelspec": {
   "display_name": "herb",
   "language": "python",
   "name": "herb"
  },
  "language_info": {
   "codemirror_mode": {
    "name": "ipython",
    "version": 3
   },
   "file_extension": ".py",
   "mimetype": "text/x-python",
   "name": "python",
   "nbconvert_exporter": "python",
   "pygments_lexer": "ipython3",
   "version": "3.12.7"
  }
 },
 "nbformat": 4,
 "nbformat_minor": 2
}
