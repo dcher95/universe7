{
 "cells": [
  {
   "cell_type": "code",
   "execution_count": 1,
   "metadata": {},
   "outputs": [
    {
     "name": "stdout",
     "output_type": "stream",
     "text": [
      "Found solution: t_x = 11\n"
     ]
    }
   ],
   "source": [
    "import numpy as np\n",
    "\n",
    "# Given 3D world points\n",
    "world_points = np.array([\n",
    "    [3, 1, 1],\n",
    "    [2, 1, 2],\n",
    "    [1, 1, 2]\n",
    "])\n",
    "\n",
    "# Given 2D projected pixel locations\n",
    "pixel_points = np.array([\n",
    "    [28, 2],\n",
    "    [13, 1],\n",
    "    [12, 1]\n",
    "])\n",
    "\n",
    "# Camera intrinsic matrix\n",
    "K = np.array([\n",
    "    [2, 0, 0],\n",
    "    [0, 2, 0],\n",
    "    [0, 0, 1]\n",
    "])\n",
    "\n",
    "# Try different values of t_x to find the correct one\n",
    "for tx in range(-20, 21):\n",
    "    valid = True\n",
    "    for (X, Y, Z), (u, v) in zip(world_points, pixel_points):\n",
    "        # Project the point with assumed t_x\n",
    "        X_t = X + tx\n",
    "        projected = K @ np.array([X_t, Y, Z])\n",
    "\n",
    "        # Normalize homogeneous coordinates\n",
    "        u_proj = projected[0] / projected[2]\n",
    "        v_proj = projected[1] / projected[2]\n",
    "\n",
    "        # Check if projection matches given pixel location\n",
    "        if not (np.isclose(u_proj, u) and np.isclose(v_proj, v)):\n",
    "            valid = False\n",
    "            break\n",
    "    \n",
    "    if valid:\n",
    "        print(f\"Found solution: t_x = {tx}\")\n",
    "        break\n"
   ]
  },
  {
   "cell_type": "code",
   "execution_count": 4,
   "metadata": {},
   "outputs": [
    {
     "name": "stdout",
     "output_type": "stream",
     "text": [
      "Output 1: [ 0 -1  1  1 -1 -1  1  1]\n",
      "Output 2: [0 0 0 0 0 0 0 0]\n",
      "Output 3: [0 1 2 2 1 1 2 2]\n",
      "Output 4: [0 0 1 1 0 0 1 1]\n"
     ]
    }
   ],
   "source": [
    "import numpy as np\n",
    "from scipy.ndimage import convolve1d\n",
    "\n",
    "# Input image (1D array)\n",
    "image = np.array([0, 0, 1, 1, 0, 0, 1, 1])\n",
    "\n",
    "# Convolution filter\n",
    "filt = np.array([-1, 2, -1])\n",
    "output = convolve1d(image, filt, mode='constant')\n",
    "print(\"Output 1:\", output)\n",
    "\n",
    "filt = np.array([0.5, 0, -0.5])\n",
    "output = convolve1d(image, filt, mode='constant')\n",
    "print(\"Output 2:\", output)\n",
    "\n",
    "filt = np.array([1,1,1])\n",
    "output = convolve1d(image, filt, mode='constant')\n",
    "print(\"Output 3:\", output)\n",
    "\n",
    "filt = np.array([0,1,0])\n",
    "output = convolve1d(image, filt, mode='constant')\n",
    "print(\"Output 4:\", output)\n"
   ]
  },
  {
   "cell_type": "code",
   "execution_count": null,
   "metadata": {},
   "outputs": [],
   "source": []
  }
 ],
 "metadata": {
  "kernelspec": {
   "display_name": "herb",
   "language": "python",
   "name": "python3"
  },
  "language_info": {
   "codemirror_mode": {
    "name": "ipython",
    "version": 3
   },
   "file_extension": ".py",
   "mimetype": "text/x-python",
   "name": "python",
   "nbconvert_exporter": "python",
   "pygments_lexer": "ipython3",
   "version": "3.12.7"
  }
 },
 "nbformat": 4,
 "nbformat_minor": 2
}
