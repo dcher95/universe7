{
  "nbformat": 4,
  "nbformat_minor": 0,
  "metadata": {
    "colab": {
      "provenance": [],
      "authorship_tag": "ABX9TyNwmPVq1cabYK0vWpLpCjyP",
      "include_colab_link": true
    },
    "kernelspec": {
      "name": "python3",
      "display_name": "Python 3"
    },
    "language_info": {
      "name": "python"
    }
  },
  "cells": [
    {
      "cell_type": "markdown",
      "metadata": {
        "id": "view-in-github",
        "colab_type": "text"
      },
      "source": [
        "<a href=\"https://colab.research.google.com/github/dcher95/universe7/blob/herbarium/herbarium/simplesoln-geoloc_chatgpt%2Bosmapi%2Bvector.ipynb\" target=\"_parent\"><img src=\"https://colab.research.google.com/assets/colab-badge.svg\" alt=\"Open In Colab\"/></a>"
      ]
    },
    {
      "cell_type": "code",
      "source": [
        "!pip install folium"
      ],
      "metadata": {
        "colab": {
          "base_uri": "https://localhost:8080/",
          "height": 294
        },
        "id": "VWCiQI6XXXXI",
        "outputId": "25672dab-a8ad-482c-ab1c-19e009a6ebf1"
      },
      "execution_count": 14,
      "outputs": [
        {
          "output_type": "display_data",
          "data": {
            "text/plain": [
              "<IPython.core.display.HTML object>"
            ],
            "text/html": [
              "\n",
              "  <style>\n",
              "    pre {\n",
              "        white-space: pre-wrap;\n",
              "    }\n",
              "  </style>\n",
              "  "
            ]
          },
          "metadata": {}
        },
        {
          "output_type": "stream",
          "name": "stdout",
          "text": [
            "Requirement already satisfied: folium in /usr/local/lib/python3.10/dist-packages (0.17.0)\n",
            "Requirement already satisfied: branca>=0.6.0 in /usr/local/lib/python3.10/dist-packages (from folium) (0.7.2)\n",
            "Requirement already satisfied: jinja2>=2.9 in /usr/local/lib/python3.10/dist-packages (from folium) (3.1.4)\n",
            "Requirement already satisfied: numpy in /usr/local/lib/python3.10/dist-packages (from folium) (1.26.4)\n",
            "Requirement already satisfied: requests in /usr/local/lib/python3.10/dist-packages (from folium) (2.32.3)\n",
            "Requirement already satisfied: xyzservices in /usr/local/lib/python3.10/dist-packages (from folium) (2024.9.0)\n",
            "Requirement already satisfied: MarkupSafe>=2.0 in /usr/local/lib/python3.10/dist-packages (from jinja2>=2.9->folium) (2.1.5)\n",
            "Requirement already satisfied: charset-normalizer<4,>=2 in /usr/local/lib/python3.10/dist-packages (from requests->folium) (3.3.2)\n",
            "Requirement already satisfied: idna<4,>=2.5 in /usr/local/lib/python3.10/dist-packages (from requests->folium) (3.10)\n",
            "Requirement already satisfied: urllib3<3,>=1.21.1 in /usr/local/lib/python3.10/dist-packages (from requests->folium) (2.0.7)\n",
            "Requirement already satisfied: certifi>=2017.4.17 in /usr/local/lib/python3.10/dist-packages (from requests->folium) (2024.8.30)\n"
          ]
        }
      ]
    },
    {
      "cell_type": "code",
      "source": [
        "from IPython.display import HTML, display\n",
        "\n",
        "def set_css():\n",
        "  display(HTML('''\n",
        "  <style>\n",
        "    pre {\n",
        "        white-space: pre-wrap;\n",
        "    }\n",
        "  </style>\n",
        "  '''))\n",
        "get_ipython().events.register('pre_run_cell', set_css)"
      ],
      "metadata": {
        "id": "uPYrFP0fTvS6"
      },
      "execution_count": 1,
      "outputs": []
    },
    {
      "cell_type": "markdown",
      "source": [
        "GEOLocate Batch Processing Tool: Used just for localities."
      ],
      "metadata": {
        "id": "QM8MBoAshcWm"
      }
    },
    {
      "cell_type": "code",
      "source": [
        "## Simple Solution\n",
        "\n",
        "# Use ChatGPT to disambiguate environmental descriptors, objects / named entities and {distance, direction} between objects\n",
        "# Convert {distance + direction} into a vector using geopandas\n",
        "# Use NER / Object Detection on the object in the satellite image.\n",
        "# Add a bunch of vectors stemming off the object.\n",
        "# Compare multiple vectors to find an area\n",
        "# Use SDM or Sat2Cap to refine it. Maybe if it can dissociate the location."
      ],
      "metadata": {
        "id": "EagTSIChW3VZ",
        "colab": {
          "base_uri": "https://localhost:8080/",
          "height": 17
        },
        "outputId": "28aaba58-26a6-4f89-db8c-472eae70f451"
      },
      "execution_count": 2,
      "outputs": [
        {
          "output_type": "display_data",
          "data": {
            "text/plain": [
              "<IPython.core.display.HTML object>"
            ],
            "text/html": [
              "\n",
              "  <style>\n",
              "    pre {\n",
              "        white-space: pre-wrap;\n",
              "    }\n",
              "  </style>\n",
              "  "
            ]
          },
          "metadata": {}
        }
      ]
    },
    {
      "cell_type": "code",
      "execution_count": 3,
      "metadata": {
        "id": "SBEJko-bJSUY",
        "colab": {
          "base_uri": "https://localhost:8080/",
          "height": 17
        },
        "outputId": "68b8c179-bd60-4d63-a4a6-7ef8eb8d206f"
      },
      "outputs": [
        {
          "output_type": "display_data",
          "data": {
            "text/plain": [
              "<IPython.core.display.HTML object>"
            ],
            "text/html": [
              "\n",
              "  <style>\n",
              "    pre {\n",
              "        white-space: pre-wrap;\n",
              "    }\n",
              "  </style>\n",
              "  "
            ]
          },
          "metadata": {}
        }
      ],
      "source": [
        "!wget https://api.gbif.org/v1/occurrence/download/request/0116573-240626123714530.zip -O /content/0116573-240626123714530.zip --quiet"
      ]
    },
    {
      "cell_type": "code",
      "source": [
        "import zipfile\n",
        "import pandas as pd\n",
        "import folium\n",
        "from geopy.geocoders import Nominatim"
      ],
      "metadata": {
        "id": "GoAxGuXB9J9u",
        "colab": {
          "base_uri": "https://localhost:8080/",
          "height": 17
        },
        "outputId": "21ae3e53-d197-4c56-cb25-d962d87c6b5f"
      },
      "execution_count": 4,
      "outputs": [
        {
          "output_type": "display_data",
          "data": {
            "text/plain": [
              "<IPython.core.display.HTML object>"
            ],
            "text/html": [
              "\n",
              "  <style>\n",
              "    pre {\n",
              "        white-space: pre-wrap;\n",
              "    }\n",
              "  </style>\n",
              "  "
            ]
          },
          "metadata": {}
        }
      ]
    },
    {
      "cell_type": "code",
      "source": [
        "with zipfile.ZipFile(\"/content/0116573-240626123714530.zip\", 'r') as zip_ref:\n",
        "    zip_ref.extractall(\"/content/MO-herbarium\")  # Specify the extraction path"
      ],
      "metadata": {
        "id": "Xs4ykUf1JxhM",
        "colab": {
          "base_uri": "https://localhost:8080/",
          "height": 17
        },
        "outputId": "ed0863d9-748e-44f7-d07d-1648c6d4649b"
      },
      "execution_count": 5,
      "outputs": [
        {
          "output_type": "display_data",
          "data": {
            "text/plain": [
              "<IPython.core.display.HTML object>"
            ],
            "text/html": [
              "\n",
              "  <style>\n",
              "    pre {\n",
              "        white-space: pre-wrap;\n",
              "    }\n",
              "  </style>\n",
              "  "
            ]
          },
          "metadata": {}
        }
      ]
    },
    {
      "cell_type": "code",
      "source": [
        "# images of plants in MO\n",
        "images = pd.read_csv(\"/content/MO-herbarium/multimedia.txt\", sep=\"\\t\")\n",
        "\n",
        "# location information & occurrence info\n",
        "occ = pd.read_csv(\"/content/MO-herbarium/occurrence.txt\", sep=\"\\t\")\n",
        "occ = occ[[\n",
        "    'gbifID', 'occurrenceID', # Joining Keys\n",
        "    'speciesKey', 'species', # species\n",
        "    'year', 'month', 'day', # date\n",
        "    'habitat', 'locality', # descriptive text. I think this is most of the route / habitat info we would want. Looks like already OCR processed?\n",
        "    'countryCode', 'stateProvince', 'county', 'municipality', # administrative\n",
        "    'georeferenceSources','hasCoordinate', 'hasGeospatialIssues' ,'decimalLatitude', 'decimalLongitude']] # geospatial\n",
        "    # 'level0Gid', 'level0Name', 'level1Gid', 'level1Name', 'level2Gid', 'level2Name', 'level3Gid', 'level3Name',]] # Has NAs. Above is more reliable.\n",
        "\n",
        "# lot of occurrences don't have pictures. Can we still use those for the species map?\n",
        "merged = images.merge(occ, on = ['gbifID'])\n",
        "\n",
        "merged[['identifier', 'county', 'municipality', 'decimalLatitude', 'decimalLongitude', 'habitat', 'locality']].head()"
      ],
      "metadata": {
        "colab": {
          "base_uri": "https://localhost:8080/",
          "height": 642
        },
        "id": "DMJUOBp1KVcq",
        "outputId": "191fe2e1-d315-4416-8081-aa809609b8d6"
      },
      "execution_count": 24,
      "outputs": [
        {
          "output_type": "display_data",
          "data": {
            "text/plain": [
              "<IPython.core.display.HTML object>"
            ],
            "text/html": [
              "\n",
              "  <style>\n",
              "    pre {\n",
              "        white-space: pre-wrap;\n",
              "    }\n",
              "  </style>\n",
              "  "
            ]
          },
          "metadata": {}
        },
        {
          "output_type": "stream",
          "name": "stderr",
          "text": [
            "<ipython-input-24-1841467e9021>:5: DtypeWarning: Columns (18) have mixed types. Specify dtype option on import or set low_memory=False.\n",
            "  occ = pd.read_csv(\"/content/MO-herbarium/occurrence.txt\", sep=\"\\t\")\n"
          ]
        },
        {
          "output_type": "execute_result",
          "data": {
            "text/plain": [
              "                                          identifier      county municipality  \\\n",
              "0  http://sweetgum.nybg.org/images3/4081/461/0266...   Lewis Co.          NaN   \n",
              "1  http://sweetgum.nybg.org/images3/4007/585/0428...  Carter Co.          NaN   \n",
              "2  http://sweetgum.nybg.org/images3/4007/584/0428...   Taney Co.          NaN   \n",
              "3  http://sweetgum.nybg.org/images3/4001/895/0430...   Ozark Co.          NaN   \n",
              "4  http://sweetgum.nybg.org/images3/3997/615/0444...   Texas Co.          NaN   \n",
              "\n",
              "   decimalLatitude  decimalLongitude  \\\n",
              "0         40.00345         -91.51426   \n",
              "1         36.95000         -90.99170   \n",
              "2         36.68000         -92.88000   \n",
              "3         36.78000         -93.37000   \n",
              "4              NaN               NaN   \n",
              "\n",
              "                                             habitat  \\\n",
              "0                                                NaN   \n",
              "1                       moist limestone slope bluffs   \n",
              "2  dry oak woods with cherty soils over Cotter do...   \n",
              "3                                      wooded upland   \n",
              "4                                                NaN   \n",
              "\n",
              "                                            locality  \n",
              "0  Quartz, northeast bay, 50 meters southeast of ...  \n",
              "1  Ozark national Scenic Riverways, Big Spring ar...  \n",
              "2  Mark Twain National Forest, Hercules Glades Wi...  \n",
              "3  Ella Alford property, a large wooded tract alo...  \n",
              "4                                           Houston.  "
            ],
            "text/html": [
              "\n",
              "  <div id=\"df-08536981-2358-4256-95d2-9be660ae80e8\" class=\"colab-df-container\">\n",
              "    <div>\n",
              "<style scoped>\n",
              "    .dataframe tbody tr th:only-of-type {\n",
              "        vertical-align: middle;\n",
              "    }\n",
              "\n",
              "    .dataframe tbody tr th {\n",
              "        vertical-align: top;\n",
              "    }\n",
              "\n",
              "    .dataframe thead th {\n",
              "        text-align: right;\n",
              "    }\n",
              "</style>\n",
              "<table border=\"1\" class=\"dataframe\">\n",
              "  <thead>\n",
              "    <tr style=\"text-align: right;\">\n",
              "      <th></th>\n",
              "      <th>identifier</th>\n",
              "      <th>county</th>\n",
              "      <th>municipality</th>\n",
              "      <th>decimalLatitude</th>\n",
              "      <th>decimalLongitude</th>\n",
              "      <th>habitat</th>\n",
              "      <th>locality</th>\n",
              "    </tr>\n",
              "  </thead>\n",
              "  <tbody>\n",
              "    <tr>\n",
              "      <th>0</th>\n",
              "      <td>http://sweetgum.nybg.org/images3/4081/461/0266...</td>\n",
              "      <td>Lewis Co.</td>\n",
              "      <td>NaN</td>\n",
              "      <td>40.00345</td>\n",
              "      <td>-91.51426</td>\n",
              "      <td>NaN</td>\n",
              "      <td>Quartz, northeast bay, 50 meters southeast of ...</td>\n",
              "    </tr>\n",
              "    <tr>\n",
              "      <th>1</th>\n",
              "      <td>http://sweetgum.nybg.org/images3/4007/585/0428...</td>\n",
              "      <td>Carter Co.</td>\n",
              "      <td>NaN</td>\n",
              "      <td>36.95000</td>\n",
              "      <td>-90.99170</td>\n",
              "      <td>moist limestone slope bluffs</td>\n",
              "      <td>Ozark national Scenic Riverways, Big Spring ar...</td>\n",
              "    </tr>\n",
              "    <tr>\n",
              "      <th>2</th>\n",
              "      <td>http://sweetgum.nybg.org/images3/4007/584/0428...</td>\n",
              "      <td>Taney Co.</td>\n",
              "      <td>NaN</td>\n",
              "      <td>36.68000</td>\n",
              "      <td>-92.88000</td>\n",
              "      <td>dry oak woods with cherty soils over Cotter do...</td>\n",
              "      <td>Mark Twain National Forest, Hercules Glades Wi...</td>\n",
              "    </tr>\n",
              "    <tr>\n",
              "      <th>3</th>\n",
              "      <td>http://sweetgum.nybg.org/images3/4001/895/0430...</td>\n",
              "      <td>Ozark Co.</td>\n",
              "      <td>NaN</td>\n",
              "      <td>36.78000</td>\n",
              "      <td>-93.37000</td>\n",
              "      <td>wooded upland</td>\n",
              "      <td>Ella Alford property, a large wooded tract alo...</td>\n",
              "    </tr>\n",
              "    <tr>\n",
              "      <th>4</th>\n",
              "      <td>http://sweetgum.nybg.org/images3/3997/615/0444...</td>\n",
              "      <td>Texas Co.</td>\n",
              "      <td>NaN</td>\n",
              "      <td>NaN</td>\n",
              "      <td>NaN</td>\n",
              "      <td>NaN</td>\n",
              "      <td>Houston.</td>\n",
              "    </tr>\n",
              "  </tbody>\n",
              "</table>\n",
              "</div>\n",
              "    <div class=\"colab-df-buttons\">\n",
              "\n",
              "  <div class=\"colab-df-container\">\n",
              "    <button class=\"colab-df-convert\" onclick=\"convertToInteractive('df-08536981-2358-4256-95d2-9be660ae80e8')\"\n",
              "            title=\"Convert this dataframe to an interactive table.\"\n",
              "            style=\"display:none;\">\n",
              "\n",
              "  <svg xmlns=\"http://www.w3.org/2000/svg\" height=\"24px\" viewBox=\"0 -960 960 960\">\n",
              "    <path d=\"M120-120v-720h720v720H120Zm60-500h600v-160H180v160Zm220 220h160v-160H400v160Zm0 220h160v-160H400v160ZM180-400h160v-160H180v160Zm440 0h160v-160H620v160ZM180-180h160v-160H180v160Zm440 0h160v-160H620v160Z\"/>\n",
              "  </svg>\n",
              "    </button>\n",
              "\n",
              "  <style>\n",
              "    .colab-df-container {\n",
              "      display:flex;\n",
              "      gap: 12px;\n",
              "    }\n",
              "\n",
              "    .colab-df-convert {\n",
              "      background-color: #E8F0FE;\n",
              "      border: none;\n",
              "      border-radius: 50%;\n",
              "      cursor: pointer;\n",
              "      display: none;\n",
              "      fill: #1967D2;\n",
              "      height: 32px;\n",
              "      padding: 0 0 0 0;\n",
              "      width: 32px;\n",
              "    }\n",
              "\n",
              "    .colab-df-convert:hover {\n",
              "      background-color: #E2EBFA;\n",
              "      box-shadow: 0px 1px 2px rgba(60, 64, 67, 0.3), 0px 1px 3px 1px rgba(60, 64, 67, 0.15);\n",
              "      fill: #174EA6;\n",
              "    }\n",
              "\n",
              "    .colab-df-buttons div {\n",
              "      margin-bottom: 4px;\n",
              "    }\n",
              "\n",
              "    [theme=dark] .colab-df-convert {\n",
              "      background-color: #3B4455;\n",
              "      fill: #D2E3FC;\n",
              "    }\n",
              "\n",
              "    [theme=dark] .colab-df-convert:hover {\n",
              "      background-color: #434B5C;\n",
              "      box-shadow: 0px 1px 3px 1px rgba(0, 0, 0, 0.15);\n",
              "      filter: drop-shadow(0px 1px 2px rgba(0, 0, 0, 0.3));\n",
              "      fill: #FFFFFF;\n",
              "    }\n",
              "  </style>\n",
              "\n",
              "    <script>\n",
              "      const buttonEl =\n",
              "        document.querySelector('#df-08536981-2358-4256-95d2-9be660ae80e8 button.colab-df-convert');\n",
              "      buttonEl.style.display =\n",
              "        google.colab.kernel.accessAllowed ? 'block' : 'none';\n",
              "\n",
              "      async function convertToInteractive(key) {\n",
              "        const element = document.querySelector('#df-08536981-2358-4256-95d2-9be660ae80e8');\n",
              "        const dataTable =\n",
              "          await google.colab.kernel.invokeFunction('convertToInteractive',\n",
              "                                                    [key], {});\n",
              "        if (!dataTable) return;\n",
              "\n",
              "        const docLinkHtml = 'Like what you see? Visit the ' +\n",
              "          '<a target=\"_blank\" href=https://colab.research.google.com/notebooks/data_table.ipynb>data table notebook</a>'\n",
              "          + ' to learn more about interactive tables.';\n",
              "        element.innerHTML = '';\n",
              "        dataTable['output_type'] = 'display_data';\n",
              "        await google.colab.output.renderOutput(dataTable, element);\n",
              "        const docLink = document.createElement('div');\n",
              "        docLink.innerHTML = docLinkHtml;\n",
              "        element.appendChild(docLink);\n",
              "      }\n",
              "    </script>\n",
              "  </div>\n",
              "\n",
              "\n",
              "<div id=\"df-dd4126b9-3430-489f-bc38-37c75cf0afaf\">\n",
              "  <button class=\"colab-df-quickchart\" onclick=\"quickchart('df-dd4126b9-3430-489f-bc38-37c75cf0afaf')\"\n",
              "            title=\"Suggest charts\"\n",
              "            style=\"display:none;\">\n",
              "\n",
              "<svg xmlns=\"http://www.w3.org/2000/svg\" height=\"24px\"viewBox=\"0 0 24 24\"\n",
              "     width=\"24px\">\n",
              "    <g>\n",
              "        <path d=\"M19 3H5c-1.1 0-2 .9-2 2v14c0 1.1.9 2 2 2h14c1.1 0 2-.9 2-2V5c0-1.1-.9-2-2-2zM9 17H7v-7h2v7zm4 0h-2V7h2v10zm4 0h-2v-4h2v4z\"/>\n",
              "    </g>\n",
              "</svg>\n",
              "  </button>\n",
              "\n",
              "<style>\n",
              "  .colab-df-quickchart {\n",
              "      --bg-color: #E8F0FE;\n",
              "      --fill-color: #1967D2;\n",
              "      --hover-bg-color: #E2EBFA;\n",
              "      --hover-fill-color: #174EA6;\n",
              "      --disabled-fill-color: #AAA;\n",
              "      --disabled-bg-color: #DDD;\n",
              "  }\n",
              "\n",
              "  [theme=dark] .colab-df-quickchart {\n",
              "      --bg-color: #3B4455;\n",
              "      --fill-color: #D2E3FC;\n",
              "      --hover-bg-color: #434B5C;\n",
              "      --hover-fill-color: #FFFFFF;\n",
              "      --disabled-bg-color: #3B4455;\n",
              "      --disabled-fill-color: #666;\n",
              "  }\n",
              "\n",
              "  .colab-df-quickchart {\n",
              "    background-color: var(--bg-color);\n",
              "    border: none;\n",
              "    border-radius: 50%;\n",
              "    cursor: pointer;\n",
              "    display: none;\n",
              "    fill: var(--fill-color);\n",
              "    height: 32px;\n",
              "    padding: 0;\n",
              "    width: 32px;\n",
              "  }\n",
              "\n",
              "  .colab-df-quickchart:hover {\n",
              "    background-color: var(--hover-bg-color);\n",
              "    box-shadow: 0 1px 2px rgba(60, 64, 67, 0.3), 0 1px 3px 1px rgba(60, 64, 67, 0.15);\n",
              "    fill: var(--button-hover-fill-color);\n",
              "  }\n",
              "\n",
              "  .colab-df-quickchart-complete:disabled,\n",
              "  .colab-df-quickchart-complete:disabled:hover {\n",
              "    background-color: var(--disabled-bg-color);\n",
              "    fill: var(--disabled-fill-color);\n",
              "    box-shadow: none;\n",
              "  }\n",
              "\n",
              "  .colab-df-spinner {\n",
              "    border: 2px solid var(--fill-color);\n",
              "    border-color: transparent;\n",
              "    border-bottom-color: var(--fill-color);\n",
              "    animation:\n",
              "      spin 1s steps(1) infinite;\n",
              "  }\n",
              "\n",
              "  @keyframes spin {\n",
              "    0% {\n",
              "      border-color: transparent;\n",
              "      border-bottom-color: var(--fill-color);\n",
              "      border-left-color: var(--fill-color);\n",
              "    }\n",
              "    20% {\n",
              "      border-color: transparent;\n",
              "      border-left-color: var(--fill-color);\n",
              "      border-top-color: var(--fill-color);\n",
              "    }\n",
              "    30% {\n",
              "      border-color: transparent;\n",
              "      border-left-color: var(--fill-color);\n",
              "      border-top-color: var(--fill-color);\n",
              "      border-right-color: var(--fill-color);\n",
              "    }\n",
              "    40% {\n",
              "      border-color: transparent;\n",
              "      border-right-color: var(--fill-color);\n",
              "      border-top-color: var(--fill-color);\n",
              "    }\n",
              "    60% {\n",
              "      border-color: transparent;\n",
              "      border-right-color: var(--fill-color);\n",
              "    }\n",
              "    80% {\n",
              "      border-color: transparent;\n",
              "      border-right-color: var(--fill-color);\n",
              "      border-bottom-color: var(--fill-color);\n",
              "    }\n",
              "    90% {\n",
              "      border-color: transparent;\n",
              "      border-bottom-color: var(--fill-color);\n",
              "    }\n",
              "  }\n",
              "</style>\n",
              "\n",
              "  <script>\n",
              "    async function quickchart(key) {\n",
              "      const quickchartButtonEl =\n",
              "        document.querySelector('#' + key + ' button');\n",
              "      quickchartButtonEl.disabled = true;  // To prevent multiple clicks.\n",
              "      quickchartButtonEl.classList.add('colab-df-spinner');\n",
              "      try {\n",
              "        const charts = await google.colab.kernel.invokeFunction(\n",
              "            'suggestCharts', [key], {});\n",
              "      } catch (error) {\n",
              "        console.error('Error during call to suggestCharts:', error);\n",
              "      }\n",
              "      quickchartButtonEl.classList.remove('colab-df-spinner');\n",
              "      quickchartButtonEl.classList.add('colab-df-quickchart-complete');\n",
              "    }\n",
              "    (() => {\n",
              "      let quickchartButtonEl =\n",
              "        document.querySelector('#df-dd4126b9-3430-489f-bc38-37c75cf0afaf button');\n",
              "      quickchartButtonEl.style.display =\n",
              "        google.colab.kernel.accessAllowed ? 'block' : 'none';\n",
              "    })();\n",
              "  </script>\n",
              "</div>\n",
              "\n",
              "    </div>\n",
              "  </div>\n"
            ],
            "application/vnd.google.colaboratory.intrinsic+json": {
              "type": "dataframe",
              "repr_error": "Out of range float values are not JSON compliant: nan"
            }
          },
          "metadata": {},
          "execution_count": 24
        }
      ]
    },
    {
      "cell_type": "code",
      "source": [
        "display(merged.loc[2,'habitat'])\n",
        "display(merged.loc[2,'locality'])\n",
        "\n",
        "display(merged.loc[3,'habitat'])\n",
        "display(merged.loc[3,'locality'])\n",
        "\n",
        "display(merged.loc[1,'habitat'])\n",
        "display(merged.loc[1,'locality'])"
      ],
      "metadata": {
        "colab": {
          "base_uri": "https://localhost:8080/",
          "height": 146
        },
        "id": "15q6EVWli4N3",
        "outputId": "49a48e69-c695-400e-a2f4-17ed8e18b7ab"
      },
      "execution_count": 7,
      "outputs": [
        {
          "output_type": "display_data",
          "data": {
            "text/plain": [
              "<IPython.core.display.HTML object>"
            ],
            "text/html": [
              "\n",
              "  <style>\n",
              "    pre {\n",
              "        white-space: pre-wrap;\n",
              "    }\n",
              "  </style>\n",
              "  "
            ]
          },
          "metadata": {}
        },
        {
          "output_type": "display_data",
          "data": {
            "text/plain": [
              "'dry oak woods with cherty soils over Cotter dolomite'"
            ],
            "application/vnd.google.colaboratory.intrinsic+json": {
              "type": "string"
            }
          },
          "metadata": {}
        },
        {
          "output_type": "display_data",
          "data": {
            "text/plain": [
              "'Mark Twain National Forest, Hercules Glades Wilderness Area, from Hercules Tower off MO125 to Pole Hollow'"
            ],
            "application/vnd.google.colaboratory.intrinsic+json": {
              "type": "string"
            }
          },
          "metadata": {}
        },
        {
          "output_type": "display_data",
          "data": {
            "text/plain": [
              "'wooded upland'"
            ],
            "application/vnd.google.colaboratory.intrinsic+json": {
              "type": "string"
            }
          },
          "metadata": {}
        },
        {
          "output_type": "display_data",
          "data": {
            "text/plain": [
              "'Ella Alford property, a large wooded tract along south side of Bryant Creek, northeast of Brixey'"
            ],
            "application/vnd.google.colaboratory.intrinsic+json": {
              "type": "string"
            }
          },
          "metadata": {}
        },
        {
          "output_type": "display_data",
          "data": {
            "text/plain": [
              "'moist limestone slope bluffs'"
            ],
            "application/vnd.google.colaboratory.intrinsic+json": {
              "type": "string"
            }
          },
          "metadata": {}
        },
        {
          "output_type": "display_data",
          "data": {
            "text/plain": [
              "'Ozark national Scenic Riverways, Big Spring area, along trail from Big Spring Lodge to Chub Hollow along Current River'"
            ],
            "application/vnd.google.colaboratory.intrinsic+json": {
              "type": "string"
            }
          },
          "metadata": {}
        }
      ]
    },
    {
      "cell_type": "code",
      "source": [
        "print('No habitat info:', merged['habitat'].isna().sum() / merged.shape[0])\n",
        "print('No locality info:', merged['locality'].isna().sum() / merged.shape[0])\n",
        "\n",
        "coord_df = merged[merged['hasCoordinate'] == True]\n",
        "no_coord_df = merged[merged['hasCoordinate'] == False]\n",
        "print('No coordinate:', no_coord_df.shape[0] / merged.shape[0])\n",
        "print(f'Given no coordinate, has habitat:', no_coord_df[~no_coord_df['habitat'].isna()].shape[0] / no_coord_df.shape[0])\n",
        "print(f'Given no coordinate, has locality:', no_coord_df[~no_coord_df['locality'].isna()].shape[0] / no_coord_df.shape[0])\n",
        "print(f'Given no coordinate, has habitat & locality:', no_coord_df[(~no_coord_df['habitat'].isna() & ~no_coord_df['locality'].isna())].shape[0] / no_coord_df.shape[0])"
      ],
      "metadata": {
        "colab": {
          "base_uri": "https://localhost:8080/",
          "height": 121
        },
        "id": "Oba9XcPiXeAO",
        "outputId": "38384003-3126-4c9d-e659-794ea3835ad2"
      },
      "execution_count": 8,
      "outputs": [
        {
          "output_type": "display_data",
          "data": {
            "text/plain": [
              "<IPython.core.display.HTML object>"
            ],
            "text/html": [
              "\n",
              "  <style>\n",
              "    pre {\n",
              "        white-space: pre-wrap;\n",
              "    }\n",
              "  </style>\n",
              "  "
            ]
          },
          "metadata": {}
        },
        {
          "output_type": "stream",
          "name": "stdout",
          "text": [
            "No habitat info: 0.8458226826315082\n",
            "No locality info: 0.22521189290999596\n",
            "No coordinate: 0.48567200322884435\n",
            "Given no coordinate, has habitat: 0.10470914127423822\n",
            "Given no coordinate, has locality: 0.9119113573407203\n",
            "Given no coordinate, has habitat & locality: 0.1041551246537396\n"
          ]
        }
      ]
    },
    {
      "cell_type": "code",
      "source": [
        "# Use ChatGPT to disambiguate the direction into {object, distance, direction}\n",
        "coord_has_locality_df = coord_df[~coord_df['locality'].isna()]\n",
        "coord_has_locality_df[['identifier', 'county', 'municipality', 'decimalLatitude', 'decimalLongitude', 'habitat', 'locality']].sort_values('decimalLatitude')"
      ],
      "metadata": {
        "id": "Oexa__8cB3Ik",
        "colab": {
          "base_uri": "https://localhost:8080/",
          "height": 704
        },
        "outputId": "8ba24c30-eb56-47cf-a9b7-48e835d39445"
      },
      "execution_count": 23,
      "outputs": [
        {
          "output_type": "display_data",
          "data": {
            "text/plain": [
              "<IPython.core.display.HTML object>"
            ],
            "text/html": [
              "\n",
              "  <style>\n",
              "    pre {\n",
              "        white-space: pre-wrap;\n",
              "    }\n",
              "  </style>\n",
              "  "
            ]
          },
          "metadata": {}
        },
        {
          "output_type": "execute_result",
          "data": {
            "text/plain": [
              "                                             identifier         county  \\\n",
              "6743  http://sweetgum.nybg.org/images3/1778/634/0237...    Dunklin Co.   \n",
              "4831  http://sweetgum.nybg.org/images3/1939/184/0251...  Jefferson Co.   \n",
              "4548  http://sweetgum.nybg.org/images3/907/151/17617...    Dunklin Co.   \n",
              "512   http://sweetgum.nybg.org/images3/1122/417/0196...            NaN   \n",
              "1680  http://sweetgum.nybg.org/images3/1944/544/0250...    Dunklin Co.   \n",
              "...                                                 ...            ...   \n",
              "5710  http://sweetgum.nybg.org/images3/1741/895/0248...            NaN   \n",
              "4358  http://sweetgum.nybg.org/images3/1853/174/0019...      Clark Co.   \n",
              "3235  http://sweetgum.nybg.org/images3/611/875/01472...      Clark Co.   \n",
              "6283  http://sweetgum.nybg.org/images3/1763/982/0250...            NaN   \n",
              "2450  http://sweetgum.nybg.org/images3/2481/519/0296...   Harrison Co.   \n",
              "\n",
              "     municipality  decimalLatitude  decimalLongitude            habitat  \\\n",
              "6743          NaN        36.105969        -90.165758                NaN   \n",
              "4831          NaN        36.125000        -90.675000                NaN   \n",
              "4548          NaN        36.236176        -90.055649                NaN   \n",
              "512           NaN        36.236176        -90.055649                NaN   \n",
              "1680          NaN        36.236176        -90.055649                NaN   \n",
              "...           ...              ...               ...                ...   \n",
              "5710          NaN        40.521151        -91.635439                NaN   \n",
              "4358          NaN        40.521151        -91.635439  Rich shaded banks   \n",
              "3235          NaN        40.521151        -91.635439        Open woods.   \n",
              "6283          NaN        40.521151        -91.635439                NaN   \n",
              "2450          NaN        40.521724        -94.127442                NaN   \n",
              "\n",
              "                                               locality  \n",
              "6743                                                  .  \n",
              "4831  edge of Big River, ca .1 Mi NE of its juncton ...  \n",
              "4548                                           Kennett.  \n",
              "512                                             Kennett  \n",
              "1680                                            Kennett  \n",
              "...                                                 ...  \n",
              "5710                                              Dumas  \n",
              "4358                                              Dumas  \n",
              "3235                                              Dumas  \n",
              "6283                                              Dumas  \n",
              "2450  Open pasture land on Margaret Broyles tract, j...  \n",
              "\n",
              "[2467 rows x 7 columns]"
            ],
            "text/html": [
              "\n",
              "  <div id=\"df-f61e4eea-231a-4e55-bf37-8f5fcc86e65b\" class=\"colab-df-container\">\n",
              "    <div>\n",
              "<style scoped>\n",
              "    .dataframe tbody tr th:only-of-type {\n",
              "        vertical-align: middle;\n",
              "    }\n",
              "\n",
              "    .dataframe tbody tr th {\n",
              "        vertical-align: top;\n",
              "    }\n",
              "\n",
              "    .dataframe thead th {\n",
              "        text-align: right;\n",
              "    }\n",
              "</style>\n",
              "<table border=\"1\" class=\"dataframe\">\n",
              "  <thead>\n",
              "    <tr style=\"text-align: right;\">\n",
              "      <th></th>\n",
              "      <th>identifier</th>\n",
              "      <th>county</th>\n",
              "      <th>municipality</th>\n",
              "      <th>decimalLatitude</th>\n",
              "      <th>decimalLongitude</th>\n",
              "      <th>habitat</th>\n",
              "      <th>locality</th>\n",
              "    </tr>\n",
              "  </thead>\n",
              "  <tbody>\n",
              "    <tr>\n",
              "      <th>6743</th>\n",
              "      <td>http://sweetgum.nybg.org/images3/1778/634/0237...</td>\n",
              "      <td>Dunklin Co.</td>\n",
              "      <td>NaN</td>\n",
              "      <td>36.105969</td>\n",
              "      <td>-90.165758</td>\n",
              "      <td>NaN</td>\n",
              "      <td>.</td>\n",
              "    </tr>\n",
              "    <tr>\n",
              "      <th>4831</th>\n",
              "      <td>http://sweetgum.nybg.org/images3/1939/184/0251...</td>\n",
              "      <td>Jefferson Co.</td>\n",
              "      <td>NaN</td>\n",
              "      <td>36.125000</td>\n",
              "      <td>-90.675000</td>\n",
              "      <td>NaN</td>\n",
              "      <td>edge of Big River, ca .1 Mi NE of its juncton ...</td>\n",
              "    </tr>\n",
              "    <tr>\n",
              "      <th>4548</th>\n",
              "      <td>http://sweetgum.nybg.org/images3/907/151/17617...</td>\n",
              "      <td>Dunklin Co.</td>\n",
              "      <td>NaN</td>\n",
              "      <td>36.236176</td>\n",
              "      <td>-90.055649</td>\n",
              "      <td>NaN</td>\n",
              "      <td>Kennett.</td>\n",
              "    </tr>\n",
              "    <tr>\n",
              "      <th>512</th>\n",
              "      <td>http://sweetgum.nybg.org/images3/1122/417/0196...</td>\n",
              "      <td>NaN</td>\n",
              "      <td>NaN</td>\n",
              "      <td>36.236176</td>\n",
              "      <td>-90.055649</td>\n",
              "      <td>NaN</td>\n",
              "      <td>Kennett</td>\n",
              "    </tr>\n",
              "    <tr>\n",
              "      <th>1680</th>\n",
              "      <td>http://sweetgum.nybg.org/images3/1944/544/0250...</td>\n",
              "      <td>Dunklin Co.</td>\n",
              "      <td>NaN</td>\n",
              "      <td>36.236176</td>\n",
              "      <td>-90.055649</td>\n",
              "      <td>NaN</td>\n",
              "      <td>Kennett</td>\n",
              "    </tr>\n",
              "    <tr>\n",
              "      <th>...</th>\n",
              "      <td>...</td>\n",
              "      <td>...</td>\n",
              "      <td>...</td>\n",
              "      <td>...</td>\n",
              "      <td>...</td>\n",
              "      <td>...</td>\n",
              "      <td>...</td>\n",
              "    </tr>\n",
              "    <tr>\n",
              "      <th>5710</th>\n",
              "      <td>http://sweetgum.nybg.org/images3/1741/895/0248...</td>\n",
              "      <td>NaN</td>\n",
              "      <td>NaN</td>\n",
              "      <td>40.521151</td>\n",
              "      <td>-91.635439</td>\n",
              "      <td>NaN</td>\n",
              "      <td>Dumas</td>\n",
              "    </tr>\n",
              "    <tr>\n",
              "      <th>4358</th>\n",
              "      <td>http://sweetgum.nybg.org/images3/1853/174/0019...</td>\n",
              "      <td>Clark Co.</td>\n",
              "      <td>NaN</td>\n",
              "      <td>40.521151</td>\n",
              "      <td>-91.635439</td>\n",
              "      <td>Rich shaded banks</td>\n",
              "      <td>Dumas</td>\n",
              "    </tr>\n",
              "    <tr>\n",
              "      <th>3235</th>\n",
              "      <td>http://sweetgum.nybg.org/images3/611/875/01472...</td>\n",
              "      <td>Clark Co.</td>\n",
              "      <td>NaN</td>\n",
              "      <td>40.521151</td>\n",
              "      <td>-91.635439</td>\n",
              "      <td>Open woods.</td>\n",
              "      <td>Dumas</td>\n",
              "    </tr>\n",
              "    <tr>\n",
              "      <th>6283</th>\n",
              "      <td>http://sweetgum.nybg.org/images3/1763/982/0250...</td>\n",
              "      <td>NaN</td>\n",
              "      <td>NaN</td>\n",
              "      <td>40.521151</td>\n",
              "      <td>-91.635439</td>\n",
              "      <td>NaN</td>\n",
              "      <td>Dumas</td>\n",
              "    </tr>\n",
              "    <tr>\n",
              "      <th>2450</th>\n",
              "      <td>http://sweetgum.nybg.org/images3/2481/519/0296...</td>\n",
              "      <td>Harrison Co.</td>\n",
              "      <td>NaN</td>\n",
              "      <td>40.521724</td>\n",
              "      <td>-94.127442</td>\n",
              "      <td>NaN</td>\n",
              "      <td>Open pasture land on Margaret Broyles tract, j...</td>\n",
              "    </tr>\n",
              "  </tbody>\n",
              "</table>\n",
              "<p>2467 rows × 7 columns</p>\n",
              "</div>\n",
              "    <div class=\"colab-df-buttons\">\n",
              "\n",
              "  <div class=\"colab-df-container\">\n",
              "    <button class=\"colab-df-convert\" onclick=\"convertToInteractive('df-f61e4eea-231a-4e55-bf37-8f5fcc86e65b')\"\n",
              "            title=\"Convert this dataframe to an interactive table.\"\n",
              "            style=\"display:none;\">\n",
              "\n",
              "  <svg xmlns=\"http://www.w3.org/2000/svg\" height=\"24px\" viewBox=\"0 -960 960 960\">\n",
              "    <path d=\"M120-120v-720h720v720H120Zm60-500h600v-160H180v160Zm220 220h160v-160H400v160Zm0 220h160v-160H400v160ZM180-400h160v-160H180v160Zm440 0h160v-160H620v160ZM180-180h160v-160H180v160Zm440 0h160v-160H620v160Z\"/>\n",
              "  </svg>\n",
              "    </button>\n",
              "\n",
              "  <style>\n",
              "    .colab-df-container {\n",
              "      display:flex;\n",
              "      gap: 12px;\n",
              "    }\n",
              "\n",
              "    .colab-df-convert {\n",
              "      background-color: #E8F0FE;\n",
              "      border: none;\n",
              "      border-radius: 50%;\n",
              "      cursor: pointer;\n",
              "      display: none;\n",
              "      fill: #1967D2;\n",
              "      height: 32px;\n",
              "      padding: 0 0 0 0;\n",
              "      width: 32px;\n",
              "    }\n",
              "\n",
              "    .colab-df-convert:hover {\n",
              "      background-color: #E2EBFA;\n",
              "      box-shadow: 0px 1px 2px rgba(60, 64, 67, 0.3), 0px 1px 3px 1px rgba(60, 64, 67, 0.15);\n",
              "      fill: #174EA6;\n",
              "    }\n",
              "\n",
              "    .colab-df-buttons div {\n",
              "      margin-bottom: 4px;\n",
              "    }\n",
              "\n",
              "    [theme=dark] .colab-df-convert {\n",
              "      background-color: #3B4455;\n",
              "      fill: #D2E3FC;\n",
              "    }\n",
              "\n",
              "    [theme=dark] .colab-df-convert:hover {\n",
              "      background-color: #434B5C;\n",
              "      box-shadow: 0px 1px 3px 1px rgba(0, 0, 0, 0.15);\n",
              "      filter: drop-shadow(0px 1px 2px rgba(0, 0, 0, 0.3));\n",
              "      fill: #FFFFFF;\n",
              "    }\n",
              "  </style>\n",
              "\n",
              "    <script>\n",
              "      const buttonEl =\n",
              "        document.querySelector('#df-f61e4eea-231a-4e55-bf37-8f5fcc86e65b button.colab-df-convert');\n",
              "      buttonEl.style.display =\n",
              "        google.colab.kernel.accessAllowed ? 'block' : 'none';\n",
              "\n",
              "      async function convertToInteractive(key) {\n",
              "        const element = document.querySelector('#df-f61e4eea-231a-4e55-bf37-8f5fcc86e65b');\n",
              "        const dataTable =\n",
              "          await google.colab.kernel.invokeFunction('convertToInteractive',\n",
              "                                                    [key], {});\n",
              "        if (!dataTable) return;\n",
              "\n",
              "        const docLinkHtml = 'Like what you see? Visit the ' +\n",
              "          '<a target=\"_blank\" href=https://colab.research.google.com/notebooks/data_table.ipynb>data table notebook</a>'\n",
              "          + ' to learn more about interactive tables.';\n",
              "        element.innerHTML = '';\n",
              "        dataTable['output_type'] = 'display_data';\n",
              "        await google.colab.output.renderOutput(dataTable, element);\n",
              "        const docLink = document.createElement('div');\n",
              "        docLink.innerHTML = docLinkHtml;\n",
              "        element.appendChild(docLink);\n",
              "      }\n",
              "    </script>\n",
              "  </div>\n",
              "\n",
              "\n",
              "<div id=\"df-e6bbce73-0cd6-4c9e-9639-e7f5426623d2\">\n",
              "  <button class=\"colab-df-quickchart\" onclick=\"quickchart('df-e6bbce73-0cd6-4c9e-9639-e7f5426623d2')\"\n",
              "            title=\"Suggest charts\"\n",
              "            style=\"display:none;\">\n",
              "\n",
              "<svg xmlns=\"http://www.w3.org/2000/svg\" height=\"24px\"viewBox=\"0 0 24 24\"\n",
              "     width=\"24px\">\n",
              "    <g>\n",
              "        <path d=\"M19 3H5c-1.1 0-2 .9-2 2v14c0 1.1.9 2 2 2h14c1.1 0 2-.9 2-2V5c0-1.1-.9-2-2-2zM9 17H7v-7h2v7zm4 0h-2V7h2v10zm4 0h-2v-4h2v4z\"/>\n",
              "    </g>\n",
              "</svg>\n",
              "  </button>\n",
              "\n",
              "<style>\n",
              "  .colab-df-quickchart {\n",
              "      --bg-color: #E8F0FE;\n",
              "      --fill-color: #1967D2;\n",
              "      --hover-bg-color: #E2EBFA;\n",
              "      --hover-fill-color: #174EA6;\n",
              "      --disabled-fill-color: #AAA;\n",
              "      --disabled-bg-color: #DDD;\n",
              "  }\n",
              "\n",
              "  [theme=dark] .colab-df-quickchart {\n",
              "      --bg-color: #3B4455;\n",
              "      --fill-color: #D2E3FC;\n",
              "      --hover-bg-color: #434B5C;\n",
              "      --hover-fill-color: #FFFFFF;\n",
              "      --disabled-bg-color: #3B4455;\n",
              "      --disabled-fill-color: #666;\n",
              "  }\n",
              "\n",
              "  .colab-df-quickchart {\n",
              "    background-color: var(--bg-color);\n",
              "    border: none;\n",
              "    border-radius: 50%;\n",
              "    cursor: pointer;\n",
              "    display: none;\n",
              "    fill: var(--fill-color);\n",
              "    height: 32px;\n",
              "    padding: 0;\n",
              "    width: 32px;\n",
              "  }\n",
              "\n",
              "  .colab-df-quickchart:hover {\n",
              "    background-color: var(--hover-bg-color);\n",
              "    box-shadow: 0 1px 2px rgba(60, 64, 67, 0.3), 0 1px 3px 1px rgba(60, 64, 67, 0.15);\n",
              "    fill: var(--button-hover-fill-color);\n",
              "  }\n",
              "\n",
              "  .colab-df-quickchart-complete:disabled,\n",
              "  .colab-df-quickchart-complete:disabled:hover {\n",
              "    background-color: var(--disabled-bg-color);\n",
              "    fill: var(--disabled-fill-color);\n",
              "    box-shadow: none;\n",
              "  }\n",
              "\n",
              "  .colab-df-spinner {\n",
              "    border: 2px solid var(--fill-color);\n",
              "    border-color: transparent;\n",
              "    border-bottom-color: var(--fill-color);\n",
              "    animation:\n",
              "      spin 1s steps(1) infinite;\n",
              "  }\n",
              "\n",
              "  @keyframes spin {\n",
              "    0% {\n",
              "      border-color: transparent;\n",
              "      border-bottom-color: var(--fill-color);\n",
              "      border-left-color: var(--fill-color);\n",
              "    }\n",
              "    20% {\n",
              "      border-color: transparent;\n",
              "      border-left-color: var(--fill-color);\n",
              "      border-top-color: var(--fill-color);\n",
              "    }\n",
              "    30% {\n",
              "      border-color: transparent;\n",
              "      border-left-color: var(--fill-color);\n",
              "      border-top-color: var(--fill-color);\n",
              "      border-right-color: var(--fill-color);\n",
              "    }\n",
              "    40% {\n",
              "      border-color: transparent;\n",
              "      border-right-color: var(--fill-color);\n",
              "      border-top-color: var(--fill-color);\n",
              "    }\n",
              "    60% {\n",
              "      border-color: transparent;\n",
              "      border-right-color: var(--fill-color);\n",
              "    }\n",
              "    80% {\n",
              "      border-color: transparent;\n",
              "      border-right-color: var(--fill-color);\n",
              "      border-bottom-color: var(--fill-color);\n",
              "    }\n",
              "    90% {\n",
              "      border-color: transparent;\n",
              "      border-bottom-color: var(--fill-color);\n",
              "    }\n",
              "  }\n",
              "</style>\n",
              "\n",
              "  <script>\n",
              "    async function quickchart(key) {\n",
              "      const quickchartButtonEl =\n",
              "        document.querySelector('#' + key + ' button');\n",
              "      quickchartButtonEl.disabled = true;  // To prevent multiple clicks.\n",
              "      quickchartButtonEl.classList.add('colab-df-spinner');\n",
              "      try {\n",
              "        const charts = await google.colab.kernel.invokeFunction(\n",
              "            'suggestCharts', [key], {});\n",
              "      } catch (error) {\n",
              "        console.error('Error during call to suggestCharts:', error);\n",
              "      }\n",
              "      quickchartButtonEl.classList.remove('colab-df-spinner');\n",
              "      quickchartButtonEl.classList.add('colab-df-quickchart-complete');\n",
              "    }\n",
              "    (() => {\n",
              "      let quickchartButtonEl =\n",
              "        document.querySelector('#df-e6bbce73-0cd6-4c9e-9639-e7f5426623d2 button');\n",
              "      quickchartButtonEl.style.display =\n",
              "        google.colab.kernel.accessAllowed ? 'block' : 'none';\n",
              "    })();\n",
              "  </script>\n",
              "</div>\n",
              "\n",
              "    </div>\n",
              "  </div>\n"
            ],
            "application/vnd.google.colaboratory.intrinsic+json": {
              "type": "dataframe",
              "summary": "{\n  \"name\": \"coord_has_locality_df[['identifier', 'county', 'municipality', 'decimalLatitude', 'decimalLongitude', 'habitat', 'locality']]\",\n  \"rows\": 2467,\n  \"fields\": [\n    {\n      \"column\": \"identifier\",\n      \"properties\": {\n        \"dtype\": \"string\",\n        \"num_unique_values\": 2467,\n        \"samples\": [\n          \"http://sweetgum.nybg.org/images3/1155/605/01954833.jpg\",\n          \"http://sweetgum.nybg.org/images3/833/932/1682172.jpg\",\n          \"http://sweetgum.nybg.org/images3/1169/730/02041740.jpg\"\n        ],\n        \"semantic_type\": \"\",\n        \"description\": \"\"\n      }\n    },\n    {\n      \"column\": \"county\",\n      \"properties\": {\n        \"dtype\": \"category\",\n        \"num_unique_values\": 98,\n        \"samples\": [\n          \"Johnson Co.\",\n          \"Perry Co.\",\n          \"Atchison Co.\"\n        ],\n        \"semantic_type\": \"\",\n        \"description\": \"\"\n      }\n    },\n    {\n      \"column\": \"municipality\",\n      \"properties\": {\n        \"dtype\": \"category\",\n        \"num_unique_values\": 16,\n        \"samples\": [\n          \"Branson\",\n          \"Montier\",\n          \"Ironton\"\n        ],\n        \"semantic_type\": \"\",\n        \"description\": \"\"\n      }\n    },\n    {\n      \"column\": \"decimalLatitude\",\n      \"properties\": {\n        \"dtype\": \"number\",\n        \"std\": 1.120892176311339,\n        \"min\": 36.105969,\n        \"max\": 40.521724,\n        \"num_unique_values\": 627,\n        \"samples\": [\n          39.982497,\n          40.026407,\n          39.32569\n        ],\n        \"semantic_type\": \"\",\n        \"description\": \"\"\n      }\n    },\n    {\n      \"column\": \"decimalLongitude\",\n      \"properties\": {\n        \"dtype\": \"number\",\n        \"std\": 1.6440880065190024,\n        \"min\": -95.620545,\n        \"max\": -89.146328,\n        \"num_unique_values\": 627,\n        \"samples\": [\n          -95.19192,\n          -91.5111,\n          -93.22872\n        ],\n        \"semantic_type\": \"\",\n        \"description\": \"\"\n      }\n    },\n    {\n      \"column\": \"habitat\",\n      \"properties\": {\n        \"dtype\": \"category\",\n        \"num_unique_values\": 353,\n        \"samples\": [\n          \"w-facing woodland slope with extensive dolomite outcrops\",\n          \"along dry wash leading to pond\",\n          \"rhyolite glades and mesic oak woods\"\n        ],\n        \"semantic_type\": \"\",\n        \"description\": \"\"\n      }\n    },\n    {\n      \"column\": \"locality\",\n      \"properties\": {\n        \"dtype\": \"category\",\n        \"num_unique_values\": 952,\n        \"samples\": [\n          \"Mark Twain National Forest, Dimcher Hollow, along N side of MO 76, ca. 0.35 mi E of Indian Creek\",\n          \"Lebanon\",\n          \"Near St. Louis\"\n        ],\n        \"semantic_type\": \"\",\n        \"description\": \"\"\n      }\n    }\n  ]\n}"
            }
          },
          "metadata": {},
          "execution_count": 23
        }
      ]
    },
    {
      "cell_type": "markdown",
      "source": [
        "### Example 1: Just NER, no relation"
      ],
      "metadata": {
        "id": "P_Qgs6U2gx_x"
      }
    },
    {
      "cell_type": "code",
      "source": [
        "lat, lon = merged.loc[2,'decimalLatitude'], merged.loc[2,'decimalLongitude']"
      ],
      "metadata": {
        "colab": {
          "base_uri": "https://localhost:8080/",
          "height": 17
        },
        "id": "FZFy006IaJbZ",
        "outputId": "923cfa85-98ae-4e49-adde-690b55cff7ac"
      },
      "execution_count": 36,
      "outputs": [
        {
          "output_type": "display_data",
          "data": {
            "text/plain": [
              "<IPython.core.display.HTML object>"
            ],
            "text/html": [
              "\n",
              "  <style>\n",
              "    pre {\n",
              "        white-space: pre-wrap;\n",
              "    }\n",
              "  </style>\n",
              "  "
            ]
          },
          "metadata": {}
        }
      ]
    },
    {
      "cell_type": "code",
      "source": [
        "prompt = \"Dissociate the following text into a dictionary with three keys, Location, Environment and Relations. Location contains the named places or geographical entities. Environment are the attributes or descriptors related to the geography or vegetation of the area. Relations are the spatial relationships between different entities, using phrases that has the named entity or object, and their directional and distance cues as seperate values, as well as relations between objects. This dictionary should be structured so that it can be fed into geometric calculations to develop vectors.\"\n",
        "input = \"Taney, Co., MO. dry oak woods with cherty soils over Cotter dolomite. Mark Twain National Forest, Hercules Glades Wilderness Area, from Hercules Tower off MO125 to Pole Hollow\"\n",
        "\n",
        "display(prompt)\n",
        "display(input)"
      ],
      "metadata": {
        "id": "3_4E4V8FZujl",
        "colab": {
          "base_uri": "https://localhost:8080/",
          "height": 158
        },
        "outputId": "9c508667-abd8-46b4-9547-9bdefbbe58c8"
      },
      "execution_count": 75,
      "outputs": [
        {
          "output_type": "display_data",
          "data": {
            "text/plain": [
              "<IPython.core.display.HTML object>"
            ],
            "text/html": [
              "\n",
              "  <style>\n",
              "    pre {\n",
              "        white-space: pre-wrap;\n",
              "    }\n",
              "  </style>\n",
              "  "
            ]
          },
          "metadata": {}
        },
        {
          "output_type": "display_data",
          "data": {
            "text/plain": [
              "'Dissociate the following text into a dictionary with three keys, Location, Environment and Relations. Location contains the named places or geographical entities. Environment are the attributes or descriptors related to the geography or vegetation of the area. Relations are the spatial relationships between different entities, using phrases that has the named entity or object, and their directional and distance cues as seperate values, as well as relations between objects. This dictionary should be structured so that it can be fed into geometric calculations to develop vectors.'"
            ],
            "application/vnd.google.colaboratory.intrinsic+json": {
              "type": "string"
            }
          },
          "metadata": {}
        },
        {
          "output_type": "display_data",
          "data": {
            "text/plain": [
              "'Taney, Co., MO. dry oak woods with cherty soils over Cotter dolomite. Mark Twain National Forest, Hercules Glades Wilderness Area, from Hercules Tower off MO125 to Pole Hollow'"
            ],
            "application/vnd.google.colaboratory.intrinsic+json": {
              "type": "string"
            }
          },
          "metadata": {}
        }
      ]
    },
    {
      "cell_type": "code",
      "source": [
        "output = {\n",
        "    \"Location\": [\n",
        "        \"Taney County, MO\",\n",
        "        \"Mark Twain National Forest\",\n",
        "        \"Hercules Glades Wilderness Area\",\n",
        "        \"Hercules Tower\",\n",
        "        \"Pole Hollow\"\n",
        "    ],\n",
        "    \"Environment\": [\n",
        "        \"dry oak woods\",\n",
        "        \"cherty soils\",\n",
        "        \"Cotter dolomite\"\n",
        "    ],\n",
        "    \"Relations\": [\n",
        "        {\n",
        "            \"entity\": \"Hercules Tower\",\n",
        "            \"direction\": \"from\",\n",
        "            \"target\": \"Pole Hollow\",\n",
        "            \"distance\": \"unknown\"\n",
        "        },\n",
        "        {\n",
        "            \"entity\": \"Hercules Glades Wilderness Area\",\n",
        "            \"relation\": \"is within\",\n",
        "            \"target\": \"Mark Twain National Forest\"\n",
        "        }\n",
        "    ]\n",
        "}"
      ],
      "metadata": {
        "colab": {
          "base_uri": "https://localhost:8080/",
          "height": 17
        },
        "id": "DaNgQnVwRXDg",
        "outputId": "9d8f5d33-d78a-4aa6-96e3-d7a0ed6e12f9"
      },
      "execution_count": 71,
      "outputs": [
        {
          "output_type": "display_data",
          "data": {
            "text/plain": [
              "<IPython.core.display.HTML object>"
            ],
            "text/html": [
              "\n",
              "  <style>\n",
              "    pre {\n",
              "        white-space: pre-wrap;\n",
              "    }\n",
              "  </style>\n",
              "  "
            ]
          },
          "metadata": {}
        }
      ]
    },
    {
      "cell_type": "markdown",
      "source": [
        "Example geocoding using named entity"
      ],
      "metadata": {
        "id": "SxyCtlrWV2Hi"
      }
    },
    {
      "cell_type": "code",
      "source": [
        "# Initialize the Nominatim geocoder\n",
        "geolocator = Nominatim(user_agent=\"geoapi_herbarium\")\n",
        "\n",
        "locations = {}\n",
        "for location in output['Location']:\n",
        "    # Geocode the location\n",
        "    geocoded = geolocator.geocode(f\"{location}, MO\")\n",
        "    locations[location] = geocoded\n",
        "    print(geocoded)"
      ],
      "metadata": {
        "colab": {
          "base_uri": "https://localhost:8080/",
          "height": 104
        },
        "id": "wVejlBpfUCQh",
        "outputId": "47a542c1-a2a9-4ac5-bc2a-a2037bd2e4cc"
      },
      "execution_count": 72,
      "outputs": [
        {
          "output_type": "display_data",
          "data": {
            "text/plain": [
              "<IPython.core.display.HTML object>"
            ],
            "text/html": [
              "\n",
              "  <style>\n",
              "    pre {\n",
              "        white-space: pre-wrap;\n",
              "    }\n",
              "  </style>\n",
              "  "
            ]
          },
          "metadata": {}
        },
        {
          "output_type": "stream",
          "name": "stdout",
          "text": [
            "Taney County, Missouri, United States\n",
            "Mark Twain National Forest, Missouri, United States\n",
            "Hercules Glades Wilderness Area, Taney County, Missouri, United States\n",
            "Hercules Lookout Tower, tower trail, Taney County, Missouri, United States\n",
            "Cedar Pole Hollow, Junction Ferry, Shannon County, Missouri, United States\n"
          ]
        }
      ]
    },
    {
      "cell_type": "code",
      "source": [
        "# Create a base map\n",
        "m = folium.Map(location=[37.0, -91.0], zoom_start=7)  # Adjust center and zoom level\n",
        "\n",
        "# Add bounding boxes to the map\n",
        "for location, geocoded in locations.items():\n",
        "  if geocoded is not None:\n",
        "    south_lat, north_lat, west_lon, east_lon = [float(coord) for coord in geocoded.raw['boundingbox']]\n",
        "    folium.Rectangle(\n",
        "        bounds=[[south_lat, west_lon], [north_lat, east_lon]],\n",
        "        color='blue',\n",
        "        fill=True,\n",
        "        fill_opacity=0.2,\n",
        "        popup= location\n",
        "    ).add_to(m)\n",
        "\n",
        "folium.Marker(\n",
        "    location=(lat, lon),\n",
        "    popup='Actual Coordinate',  # Optional popup text\n",
        "    icon=folium.Icon(color='red')  # Customize marker color\n",
        ").add_to(m)\n",
        "\n",
        "# Save the map to an HTML file or display in a Jupyter notebook\n",
        "m.save('bounding_boxes_map_ex1.html')\n",
        "# If using a Jupyter notebook, simply display m\n",
        "m"
      ],
      "metadata": {
        "colab": {
          "base_uri": "https://localhost:8080/",
          "height": 582
        },
        "id": "5H0Z3QvDZB2I",
        "outputId": "73d6ccca-2e3a-479a-fa43-189799cc9d44"
      },
      "execution_count": 74,
      "outputs": [
        {
          "output_type": "display_data",
          "data": {
            "text/plain": [
              "<IPython.core.display.HTML object>"
            ],
            "text/html": [
              "\n",
              "  <style>\n",
              "    pre {\n",
              "        white-space: pre-wrap;\n",
              "    }\n",
              "  </style>\n",
              "  "
            ]
          },
          "metadata": {}
        },
        {
          "output_type": "execute_result",
          "data": {
            "text/plain": [
              "<folium.folium.Map at 0x7d6726c0bee0>"
            ],
            "text/html": [
              "<div style=\"width:100%;\"><div style=\"position:relative;width:100%;height:0;padding-bottom:60%;\"><span style=\"color:#565656\">Make this Notebook Trusted to load map: File -> Trust Notebook</span><iframe srcdoc=\"&lt;!DOCTYPE html&gt;\n",
              "&lt;html&gt;\n",
              "&lt;head&gt;\n",
              "    \n",
              "    &lt;meta http-equiv=&quot;content-type&quot; content=&quot;text/html; charset=UTF-8&quot; /&gt;\n",
              "    \n",
              "        &lt;script&gt;\n",
              "            L_NO_TOUCH = false;\n",
              "            L_DISABLE_3D = false;\n",
              "        &lt;/script&gt;\n",
              "    \n",
              "    &lt;style&gt;html, body {width: 100%;height: 100%;margin: 0;padding: 0;}&lt;/style&gt;\n",
              "    &lt;style&gt;#map {position:absolute;top:0;bottom:0;right:0;left:0;}&lt;/style&gt;\n",
              "    &lt;script src=&quot;https://cdn.jsdelivr.net/npm/leaflet@1.9.3/dist/leaflet.js&quot;&gt;&lt;/script&gt;\n",
              "    &lt;script src=&quot;https://code.jquery.com/jquery-3.7.1.min.js&quot;&gt;&lt;/script&gt;\n",
              "    &lt;script src=&quot;https://cdn.jsdelivr.net/npm/bootstrap@5.2.2/dist/js/bootstrap.bundle.min.js&quot;&gt;&lt;/script&gt;\n",
              "    &lt;script src=&quot;https://cdnjs.cloudflare.com/ajax/libs/Leaflet.awesome-markers/2.0.2/leaflet.awesome-markers.js&quot;&gt;&lt;/script&gt;\n",
              "    &lt;link rel=&quot;stylesheet&quot; href=&quot;https://cdn.jsdelivr.net/npm/leaflet@1.9.3/dist/leaflet.css&quot;/&gt;\n",
              "    &lt;link rel=&quot;stylesheet&quot; href=&quot;https://cdn.jsdelivr.net/npm/bootstrap@5.2.2/dist/css/bootstrap.min.css&quot;/&gt;\n",
              "    &lt;link rel=&quot;stylesheet&quot; href=&quot;https://netdna.bootstrapcdn.com/bootstrap/3.0.0/css/bootstrap-glyphicons.css&quot;/&gt;\n",
              "    &lt;link rel=&quot;stylesheet&quot; href=&quot;https://cdn.jsdelivr.net/npm/@fortawesome/fontawesome-free@6.2.0/css/all.min.css&quot;/&gt;\n",
              "    &lt;link rel=&quot;stylesheet&quot; href=&quot;https://cdnjs.cloudflare.com/ajax/libs/Leaflet.awesome-markers/2.0.2/leaflet.awesome-markers.css&quot;/&gt;\n",
              "    &lt;link rel=&quot;stylesheet&quot; href=&quot;https://cdn.jsdelivr.net/gh/python-visualization/folium/folium/templates/leaflet.awesome.rotate.min.css&quot;/&gt;\n",
              "    \n",
              "            &lt;meta name=&quot;viewport&quot; content=&quot;width=device-width,\n",
              "                initial-scale=1.0, maximum-scale=1.0, user-scalable=no&quot; /&gt;\n",
              "            &lt;style&gt;\n",
              "                #map_52eb55b3b8e0846abc1510d47ea959af {\n",
              "                    position: relative;\n",
              "                    width: 100.0%;\n",
              "                    height: 100.0%;\n",
              "                    left: 0.0%;\n",
              "                    top: 0.0%;\n",
              "                }\n",
              "                .leaflet-container { font-size: 1rem; }\n",
              "            &lt;/style&gt;\n",
              "        \n",
              "&lt;/head&gt;\n",
              "&lt;body&gt;\n",
              "    \n",
              "    \n",
              "            &lt;div class=&quot;folium-map&quot; id=&quot;map_52eb55b3b8e0846abc1510d47ea959af&quot; &gt;&lt;/div&gt;\n",
              "        \n",
              "&lt;/body&gt;\n",
              "&lt;script&gt;\n",
              "    \n",
              "    \n",
              "            var map_52eb55b3b8e0846abc1510d47ea959af = L.map(\n",
              "                &quot;map_52eb55b3b8e0846abc1510d47ea959af&quot;,\n",
              "                {\n",
              "                    center: [37.0, -91.0],\n",
              "                    crs: L.CRS.EPSG3857,\n",
              "                    zoom: 7,\n",
              "                    zoomControl: true,\n",
              "                    preferCanvas: false,\n",
              "                }\n",
              "            );\n",
              "\n",
              "            \n",
              "\n",
              "        \n",
              "    \n",
              "            var tile_layer_f03d5c5e07192b79f742e98f4595b783 = L.tileLayer(\n",
              "                &quot;https://tile.openstreetmap.org/{z}/{x}/{y}.png&quot;,\n",
              "                {&quot;attribution&quot;: &quot;\\u0026copy; \\u003ca href=\\&quot;https://www.openstreetmap.org/copyright\\&quot;\\u003eOpenStreetMap\\u003c/a\\u003e contributors&quot;, &quot;detectRetina&quot;: false, &quot;maxNativeZoom&quot;: 19, &quot;maxZoom&quot;: 19, &quot;minZoom&quot;: 0, &quot;noWrap&quot;: false, &quot;opacity&quot;: 1, &quot;subdomains&quot;: &quot;abc&quot;, &quot;tms&quot;: false}\n",
              "            );\n",
              "        \n",
              "    \n",
              "            tile_layer_f03d5c5e07192b79f742e98f4595b783.addTo(map_52eb55b3b8e0846abc1510d47ea959af);\n",
              "        \n",
              "    \n",
              "            var rectangle_f084de426de35fe92e3879990a32de15 = L.rectangle(\n",
              "                [[36.4978315, -93.315337], [36.8169122, -92.7649926]],\n",
              "                {&quot;bubblingMouseEvents&quot;: true, &quot;color&quot;: &quot;blue&quot;, &quot;dashArray&quot;: null, &quot;dashOffset&quot;: null, &quot;fill&quot;: true, &quot;fillColor&quot;: &quot;blue&quot;, &quot;fillOpacity&quot;: 0.2, &quot;fillRule&quot;: &quot;evenodd&quot;, &quot;lineCap&quot;: &quot;round&quot;, &quot;lineJoin&quot;: &quot;round&quot;, &quot;noClip&quot;: false, &quot;opacity&quot;: 1.0, &quot;smoothFactor&quot;: 1.0, &quot;stroke&quot;: true, &quot;weight&quot;: 3}\n",
              "            ).addTo(map_52eb55b3b8e0846abc1510d47ea959af);\n",
              "        \n",
              "    \n",
              "        var popup_686285922a49f6751c7ca2c54701a4e4 = L.popup({&quot;maxWidth&quot;: &quot;100%&quot;});\n",
              "\n",
              "        \n",
              "            \n",
              "                var html_b3496c00b718da15ffe6f06c431086ff = $(`&lt;div id=&quot;html_b3496c00b718da15ffe6f06c431086ff&quot; style=&quot;width: 100.0%; height: 100.0%;&quot;&gt;Taney County, MO&lt;/div&gt;`)[0];\n",
              "                popup_686285922a49f6751c7ca2c54701a4e4.setContent(html_b3496c00b718da15ffe6f06c431086ff);\n",
              "            \n",
              "        \n",
              "\n",
              "        rectangle_f084de426de35fe92e3879990a32de15.bindPopup(popup_686285922a49f6751c7ca2c54701a4e4)\n",
              "        ;\n",
              "\n",
              "        \n",
              "    \n",
              "    \n",
              "            var rectangle_534e546038fd0803b9842d4078567efd = L.rectangle(\n",
              "                [[36.4984831, -93.9067662], [38.9329324, -90.0918087]],\n",
              "                {&quot;bubblingMouseEvents&quot;: true, &quot;color&quot;: &quot;blue&quot;, &quot;dashArray&quot;: null, &quot;dashOffset&quot;: null, &quot;fill&quot;: true, &quot;fillColor&quot;: &quot;blue&quot;, &quot;fillOpacity&quot;: 0.2, &quot;fillRule&quot;: &quot;evenodd&quot;, &quot;lineCap&quot;: &quot;round&quot;, &quot;lineJoin&quot;: &quot;round&quot;, &quot;noClip&quot;: false, &quot;opacity&quot;: 1.0, &quot;smoothFactor&quot;: 1.0, &quot;stroke&quot;: true, &quot;weight&quot;: 3}\n",
              "            ).addTo(map_52eb55b3b8e0846abc1510d47ea959af);\n",
              "        \n",
              "    \n",
              "        var popup_ec104595fb71dbd461b59b6ca1476ac8 = L.popup({&quot;maxWidth&quot;: &quot;100%&quot;});\n",
              "\n",
              "        \n",
              "            \n",
              "                var html_c5e4f74df18fa9969c768cc9359987d2 = $(`&lt;div id=&quot;html_c5e4f74df18fa9969c768cc9359987d2&quot; style=&quot;width: 100.0%; height: 100.0%;&quot;&gt;Mark Twain National Forest&lt;/div&gt;`)[0];\n",
              "                popup_ec104595fb71dbd461b59b6ca1476ac8.setContent(html_c5e4f74df18fa9969c768cc9359987d2);\n",
              "            \n",
              "        \n",
              "\n",
              "        rectangle_534e546038fd0803b9842d4078567efd.bindPopup(popup_ec104595fb71dbd461b59b6ca1476ac8)\n",
              "        ;\n",
              "\n",
              "        \n",
              "    \n",
              "    \n",
              "            var rectangle_7ee5d5ed399595b1f711f9c22a96144c = L.rectangle(\n",
              "                [[36.6501276, -92.9807496], [36.7218941, -92.8715837]],\n",
              "                {&quot;bubblingMouseEvents&quot;: true, &quot;color&quot;: &quot;blue&quot;, &quot;dashArray&quot;: null, &quot;dashOffset&quot;: null, &quot;fill&quot;: true, &quot;fillColor&quot;: &quot;blue&quot;, &quot;fillOpacity&quot;: 0.2, &quot;fillRule&quot;: &quot;evenodd&quot;, &quot;lineCap&quot;: &quot;round&quot;, &quot;lineJoin&quot;: &quot;round&quot;, &quot;noClip&quot;: false, &quot;opacity&quot;: 1.0, &quot;smoothFactor&quot;: 1.0, &quot;stroke&quot;: true, &quot;weight&quot;: 3}\n",
              "            ).addTo(map_52eb55b3b8e0846abc1510d47ea959af);\n",
              "        \n",
              "    \n",
              "        var popup_aa970df617d38110e62503652315ece7 = L.popup({&quot;maxWidth&quot;: &quot;100%&quot;});\n",
              "\n",
              "        \n",
              "            \n",
              "                var html_f158f911ac615e6d4e8ac56a59a07c0b = $(`&lt;div id=&quot;html_f158f911ac615e6d4e8ac56a59a07c0b&quot; style=&quot;width: 100.0%; height: 100.0%;&quot;&gt;Hercules Glades Wilderness Area&lt;/div&gt;`)[0];\n",
              "                popup_aa970df617d38110e62503652315ece7.setContent(html_f158f911ac615e6d4e8ac56a59a07c0b);\n",
              "            \n",
              "        \n",
              "\n",
              "        rectangle_7ee5d5ed399595b1f711f9c22a96144c.bindPopup(popup_aa970df617d38110e62503652315ece7)\n",
              "        ;\n",
              "\n",
              "        \n",
              "    \n",
              "    \n",
              "            var rectangle_9ea0eaacfce678d591f150bdb68f9240 = L.rectangle(\n",
              "                [[36.6846895, -92.8829626], [36.6847895, -92.8828626]],\n",
              "                {&quot;bubblingMouseEvents&quot;: true, &quot;color&quot;: &quot;blue&quot;, &quot;dashArray&quot;: null, &quot;dashOffset&quot;: null, &quot;fill&quot;: true, &quot;fillColor&quot;: &quot;blue&quot;, &quot;fillOpacity&quot;: 0.2, &quot;fillRule&quot;: &quot;evenodd&quot;, &quot;lineCap&quot;: &quot;round&quot;, &quot;lineJoin&quot;: &quot;round&quot;, &quot;noClip&quot;: false, &quot;opacity&quot;: 1.0, &quot;smoothFactor&quot;: 1.0, &quot;stroke&quot;: true, &quot;weight&quot;: 3}\n",
              "            ).addTo(map_52eb55b3b8e0846abc1510d47ea959af);\n",
              "        \n",
              "    \n",
              "        var popup_8a05399f4e0418c38ff81cd124ee852b = L.popup({&quot;maxWidth&quot;: &quot;100%&quot;});\n",
              "\n",
              "        \n",
              "            \n",
              "                var html_bd92dcf993c2288ce8ef03af103bd751 = $(`&lt;div id=&quot;html_bd92dcf993c2288ce8ef03af103bd751&quot; style=&quot;width: 100.0%; height: 100.0%;&quot;&gt;Hercules Tower&lt;/div&gt;`)[0];\n",
              "                popup_8a05399f4e0418c38ff81cd124ee852b.setContent(html_bd92dcf993c2288ce8ef03af103bd751);\n",
              "            \n",
              "        \n",
              "\n",
              "        rectangle_9ea0eaacfce678d591f150bdb68f9240.bindPopup(popup_8a05399f4e0418c38ff81cd124ee852b)\n",
              "        ;\n",
              "\n",
              "        \n",
              "    \n",
              "    \n",
              "            var rectangle_be4e04e13e6bb5262c1ac7d6341d7e11 = L.rectangle(\n",
              "                [[37.1927008, -91.2726532], [37.2041183, -91.2708078]],\n",
              "                {&quot;bubblingMouseEvents&quot;: true, &quot;color&quot;: &quot;blue&quot;, &quot;dashArray&quot;: null, &quot;dashOffset&quot;: null, &quot;fill&quot;: true, &quot;fillColor&quot;: &quot;blue&quot;, &quot;fillOpacity&quot;: 0.2, &quot;fillRule&quot;: &quot;evenodd&quot;, &quot;lineCap&quot;: &quot;round&quot;, &quot;lineJoin&quot;: &quot;round&quot;, &quot;noClip&quot;: false, &quot;opacity&quot;: 1.0, &quot;smoothFactor&quot;: 1.0, &quot;stroke&quot;: true, &quot;weight&quot;: 3}\n",
              "            ).addTo(map_52eb55b3b8e0846abc1510d47ea959af);\n",
              "        \n",
              "    \n",
              "        var popup_5246a5f2acab8030112d39a6e191ae87 = L.popup({&quot;maxWidth&quot;: &quot;100%&quot;});\n",
              "\n",
              "        \n",
              "            \n",
              "                var html_59feaf473b1105950ecf3348b76871ec = $(`&lt;div id=&quot;html_59feaf473b1105950ecf3348b76871ec&quot; style=&quot;width: 100.0%; height: 100.0%;&quot;&gt;Pole Hollow&lt;/div&gt;`)[0];\n",
              "                popup_5246a5f2acab8030112d39a6e191ae87.setContent(html_59feaf473b1105950ecf3348b76871ec);\n",
              "            \n",
              "        \n",
              "\n",
              "        rectangle_be4e04e13e6bb5262c1ac7d6341d7e11.bindPopup(popup_5246a5f2acab8030112d39a6e191ae87)\n",
              "        ;\n",
              "\n",
              "        \n",
              "    \n",
              "    \n",
              "            var marker_38c6615ccf53b656fad7f52313fd339c = L.marker(\n",
              "                [36.68, -92.88],\n",
              "                {}\n",
              "            ).addTo(map_52eb55b3b8e0846abc1510d47ea959af);\n",
              "        \n",
              "    \n",
              "            var icon_5679ce22205130bb325100e3d1a24bb8 = L.AwesomeMarkers.icon(\n",
              "                {&quot;extraClasses&quot;: &quot;fa-rotate-0&quot;, &quot;icon&quot;: &quot;info-sign&quot;, &quot;iconColor&quot;: &quot;white&quot;, &quot;markerColor&quot;: &quot;red&quot;, &quot;prefix&quot;: &quot;glyphicon&quot;}\n",
              "            );\n",
              "            marker_38c6615ccf53b656fad7f52313fd339c.setIcon(icon_5679ce22205130bb325100e3d1a24bb8);\n",
              "        \n",
              "    \n",
              "        var popup_d3bfba83676b12e8a4dfce87adc00779 = L.popup({&quot;maxWidth&quot;: &quot;100%&quot;});\n",
              "\n",
              "        \n",
              "            \n",
              "                var html_8b323a2e8950049e3eddc3526c6ace1f = $(`&lt;div id=&quot;html_8b323a2e8950049e3eddc3526c6ace1f&quot; style=&quot;width: 100.0%; height: 100.0%;&quot;&gt;Actual Coordinate&lt;/div&gt;`)[0];\n",
              "                popup_d3bfba83676b12e8a4dfce87adc00779.setContent(html_8b323a2e8950049e3eddc3526c6ace1f);\n",
              "            \n",
              "        \n",
              "\n",
              "        marker_38c6615ccf53b656fad7f52313fd339c.bindPopup(popup_d3bfba83676b12e8a4dfce87adc00779)\n",
              "        ;\n",
              "\n",
              "        \n",
              "    \n",
              "    \n",
              "            tile_layer_f03d5c5e07192b79f742e98f4595b783.addTo(map_52eb55b3b8e0846abc1510d47ea959af);\n",
              "        \n",
              "&lt;/script&gt;\n",
              "&lt;/html&gt;\" style=\"position:absolute;width:100%;height:100%;left:0;top:0;border:none !important;\" allowfullscreen webkitallowfullscreen mozallowfullscreen></iframe></div></div>"
            ]
          },
          "metadata": {},
          "execution_count": 74
        }
      ]
    },
    {
      "cell_type": "markdown",
      "source": [
        "Example 2"
      ],
      "metadata": {
        "id": "JjRxFAr4hveu"
      }
    },
    {
      "cell_type": "code",
      "source": [
        "ex2 = coord_has_locality_df.reset_index(drop=True).iloc[2464,][['identifier', 'county', 'stateProvince', 'municipality', 'decimalLatitude', 'decimalLongitude', 'habitat', 'locality']]"
      ],
      "metadata": {
        "colab": {
          "base_uri": "https://localhost:8080/",
          "height": 17
        },
        "id": "CqMIwbv_XhxV",
        "outputId": "9609330b-d926-4698-eb49-885a36b31ce7"
      },
      "execution_count": 89,
      "outputs": [
        {
          "output_type": "display_data",
          "data": {
            "text/plain": [
              "<IPython.core.display.HTML object>"
            ],
            "text/html": [
              "\n",
              "  <style>\n",
              "    pre {\n",
              "        white-space: pre-wrap;\n",
              "    }\n",
              "  </style>\n",
              "  "
            ]
          },
          "metadata": {}
        }
      ]
    },
    {
      "cell_type": "code",
      "source": [
        "input_parts = [value for value in [ex2['county'], ex2['stateProvince'], ex2['habitat'], ex2['locality']] if pd.notna(value)]\n",
        "input = '. '.join(input_parts) + '.'"
      ],
      "metadata": {
        "colab": {
          "base_uri": "https://localhost:8080/",
          "height": 17
        },
        "id": "d_H6YCrHiqTz",
        "outputId": "d9d29c91-872b-4c9f-8194-8ac632074eb5"
      },
      "execution_count": 95,
      "outputs": [
        {
          "output_type": "display_data",
          "data": {
            "text/plain": [
              "<IPython.core.display.HTML object>"
            ],
            "text/html": [
              "\n",
              "  <style>\n",
              "    pre {\n",
              "        white-space: pre-wrap;\n",
              "    }\n",
              "  </style>\n",
              "  "
            ]
          },
          "metadata": {}
        }
      ]
    },
    {
      "cell_type": "code",
      "source": [
        "lat, lon = ex2['decimalLatitude'], ex2['decimalLongitude']\n",
        "prompt = \"Dissociate the following text into a dictionary with three keys, Location, Environment and Relations. Location contains the named places or geographical entities. Environment are the attributes or descriptors related to the geography or vegetation of the area. Relations are the spatial relationships between different entities, using phrases that has the named entity or object. The direction and distance should be explicitly listed in the dictionary. Distance and direction should be interpretable as vectors with singular values, if possible.\"\n",
        "display(prompt)\n",
        "display(input)"
      ],
      "metadata": {
        "colab": {
          "base_uri": "https://localhost:8080/",
          "height": 141
        },
        "id": "gMDTzkN8g5O7",
        "outputId": "31f84638-4eb9-460f-bd61-1c827079c267"
      },
      "execution_count": 119,
      "outputs": [
        {
          "output_type": "display_data",
          "data": {
            "text/plain": [
              "<IPython.core.display.HTML object>"
            ],
            "text/html": [
              "\n",
              "  <style>\n",
              "    pre {\n",
              "        white-space: pre-wrap;\n",
              "    }\n",
              "  </style>\n",
              "  "
            ]
          },
          "metadata": {}
        },
        {
          "output_type": "display_data",
          "data": {
            "text/plain": [
              "'Dissociate the following text into a dictionary with three keys, Location, Environment and Relations. Location contains the named places or geographical entities. Environment are the attributes or descriptors related to the geography or vegetation of the area. Relations are the spatial relationships between different entities, using phrases that has the named entity or object. The direction and distance should be explicitly listed in the dictionary. Distance and direction should be interpretable as vectors with singular values, if possible.'"
            ],
            "application/vnd.google.colaboratory.intrinsic+json": {
              "type": "string"
            }
          },
          "metadata": {}
        },
        {
          "output_type": "display_data",
          "data": {
            "text/plain": [
              "'Jefferson Co.. Missouri. 6.5 mi (10.5 km) W of DeSoto; Among woods on ridgetop, cherty substrate, above bluff near Big River, ca. 0.1 mi (0.16 km) NNE of its confluence with Parker Creek..'"
            ],
            "application/vnd.google.colaboratory.intrinsic+json": {
              "type": "string"
            }
          },
          "metadata": {}
        }
      ]
    },
    {
      "cell_type": "code",
      "source": [
        "output = {\n",
        "    \"Location\": [\n",
        "        \"Jefferson County, Missouri\",\n",
        "        \"De Soto\", #DeSoto in text. diff place. manually changed\n",
        "        \"Big River\",\n",
        "        \"Parker Creek\"\n",
        "    ],\n",
        "    \"Environment\": [\n",
        "        \"woods on ridgetop\",\n",
        "        \"cherty substrate\",\n",
        "        \"bluff near Big River\"\n",
        "    ],\n",
        "    \"Relations\": [\n",
        "        {\n",
        "            \"entity\": \"De Soto\",\n",
        "            \"direction\": \"W\",\n",
        "            \"distance_miles\": 6.5,\n",
        "            \"distance_km\": 10.5\n",
        "        },\n",
        "        {\n",
        "            \"entity\": \"Big River\",\n",
        "            \"direction\": \"NNE\",\n",
        "            \"distance_miles\": 0.1,\n",
        "            \"distance_km\": 0.16,\n",
        "            \"relation\": \"above bluff near\"\n",
        "        },\n",
        "        {\n",
        "            \"entity\": \"Big River\",\n",
        "            \"relation\": \"is near\",\n",
        "            \"target\": \"confluence with Parker Creek\"\n",
        "        }\n",
        "    ]\n",
        "}\n",
        "\n"
      ],
      "metadata": {
        "colab": {
          "base_uri": "https://localhost:8080/",
          "height": 17
        },
        "id": "39I0KQ9ghBv8",
        "outputId": "70e1a15f-70dc-458f-e62c-9ec1dd15c783"
      },
      "execution_count": 147,
      "outputs": [
        {
          "output_type": "display_data",
          "data": {
            "text/plain": [
              "<IPython.core.display.HTML object>"
            ],
            "text/html": [
              "\n",
              "  <style>\n",
              "    pre {\n",
              "        white-space: pre-wrap;\n",
              "    }\n",
              "  </style>\n",
              "  "
            ]
          },
          "metadata": {}
        }
      ]
    },
    {
      "cell_type": "code",
      "source": [
        "# Initialize the Nominatim geocoder\n",
        "geolocator = Nominatim(user_agent=\"geoapi_herbarium\")\n",
        "\n",
        "locations = {}\n",
        "for location in output['Location']:\n",
        "    # Geocode the location\n",
        "    geocoded = geolocator.geocode(f\"{location}, MO\")\n",
        "    locations[location] = geocoded\n",
        "    print(geocoded)"
      ],
      "metadata": {
        "colab": {
          "base_uri": "https://localhost:8080/",
          "height": 86
        },
        "id": "fztyyc22jwq3",
        "outputId": "7c496760-8cfc-420a-f2e3-949022159446"
      },
      "execution_count": 121,
      "outputs": [
        {
          "output_type": "display_data",
          "data": {
            "text/plain": [
              "<IPython.core.display.HTML object>"
            ],
            "text/html": [
              "\n",
              "  <style>\n",
              "    pre {\n",
              "        white-space: pre-wrap;\n",
              "    }\n",
              "  </style>\n",
              "  "
            ]
          },
          "metadata": {}
        },
        {
          "output_type": "stream",
          "name": "stdout",
          "text": [
            "Jefferson County, Missouri, United States\n",
            "De Soto, Valle Township, Jefferson County, Missouri, 63024, United States\n",
            "Big River, Missouri, United States\n",
            "Parker Creek, Valle Township, Jefferson County, Missouri, United States\n"
          ]
        }
      ]
    },
    {
      "cell_type": "code",
      "source": [
        "# Create a base map\n",
        "m = folium.Map(location=[37.0, -91.0], zoom_start=7)  # Adjust center and zoom level\n",
        "\n",
        "# Add bounding boxes to the map\n",
        "for location, geocoded in locations.items():\n",
        "  if geocoded is not None:\n",
        "      south_lat, north_lat, west_lon, east_lon = [float(coord) for coord in geocoded.raw['boundingbox']]\n",
        "      folium.Rectangle(\n",
        "          bounds=[[south_lat, west_lon], [north_lat, east_lon]],\n",
        "          color='blue',\n",
        "          fill=True,\n",
        "          fill_opacity=0.2,\n",
        "          popup= location\n",
        "      ).add_to(m)\n",
        "\n",
        "folium.Marker(\n",
        "    location=(lat, lon),\n",
        "    popup='Actual Coordinate',  # Optional popup text\n",
        "    icon=folium.Icon(color='red')  # Customize marker color\n",
        ").add_to(m)\n",
        "\n",
        "# Save the map to an HTML file or display in a Jupyter notebook\n",
        "m.save('bounding_boxes_map_ex2.html')\n",
        "# If using a Jupyter notebook, simply display m\n",
        "m\n"
      ],
      "metadata": {
        "colab": {
          "base_uri": "https://localhost:8080/",
          "height": 582
        },
        "id": "3NFTepL8m3FO",
        "outputId": "09cac288-b84e-4265-be79-b59df687a125"
      },
      "execution_count": 122,
      "outputs": [
        {
          "output_type": "display_data",
          "data": {
            "text/plain": [
              "<IPython.core.display.HTML object>"
            ],
            "text/html": [
              "\n",
              "  <style>\n",
              "    pre {\n",
              "        white-space: pre-wrap;\n",
              "    }\n",
              "  </style>\n",
              "  "
            ]
          },
          "metadata": {}
        },
        {
          "output_type": "execute_result",
          "data": {
            "text/plain": [
              "<folium.folium.Map at 0x7d6726ccdcf0>"
            ],
            "text/html": [
              "<div style=\"width:100%;\"><div style=\"position:relative;width:100%;height:0;padding-bottom:60%;\"><span style=\"color:#565656\">Make this Notebook Trusted to load map: File -> Trust Notebook</span><iframe srcdoc=\"&lt;!DOCTYPE html&gt;\n",
              "&lt;html&gt;\n",
              "&lt;head&gt;\n",
              "    \n",
              "    &lt;meta http-equiv=&quot;content-type&quot; content=&quot;text/html; charset=UTF-8&quot; /&gt;\n",
              "    \n",
              "        &lt;script&gt;\n",
              "            L_NO_TOUCH = false;\n",
              "            L_DISABLE_3D = false;\n",
              "        &lt;/script&gt;\n",
              "    \n",
              "    &lt;style&gt;html, body {width: 100%;height: 100%;margin: 0;padding: 0;}&lt;/style&gt;\n",
              "    &lt;style&gt;#map {position:absolute;top:0;bottom:0;right:0;left:0;}&lt;/style&gt;\n",
              "    &lt;script src=&quot;https://cdn.jsdelivr.net/npm/leaflet@1.9.3/dist/leaflet.js&quot;&gt;&lt;/script&gt;\n",
              "    &lt;script src=&quot;https://code.jquery.com/jquery-3.7.1.min.js&quot;&gt;&lt;/script&gt;\n",
              "    &lt;script src=&quot;https://cdn.jsdelivr.net/npm/bootstrap@5.2.2/dist/js/bootstrap.bundle.min.js&quot;&gt;&lt;/script&gt;\n",
              "    &lt;script src=&quot;https://cdnjs.cloudflare.com/ajax/libs/Leaflet.awesome-markers/2.0.2/leaflet.awesome-markers.js&quot;&gt;&lt;/script&gt;\n",
              "    &lt;link rel=&quot;stylesheet&quot; href=&quot;https://cdn.jsdelivr.net/npm/leaflet@1.9.3/dist/leaflet.css&quot;/&gt;\n",
              "    &lt;link rel=&quot;stylesheet&quot; href=&quot;https://cdn.jsdelivr.net/npm/bootstrap@5.2.2/dist/css/bootstrap.min.css&quot;/&gt;\n",
              "    &lt;link rel=&quot;stylesheet&quot; href=&quot;https://netdna.bootstrapcdn.com/bootstrap/3.0.0/css/bootstrap-glyphicons.css&quot;/&gt;\n",
              "    &lt;link rel=&quot;stylesheet&quot; href=&quot;https://cdn.jsdelivr.net/npm/@fortawesome/fontawesome-free@6.2.0/css/all.min.css&quot;/&gt;\n",
              "    &lt;link rel=&quot;stylesheet&quot; href=&quot;https://cdnjs.cloudflare.com/ajax/libs/Leaflet.awesome-markers/2.0.2/leaflet.awesome-markers.css&quot;/&gt;\n",
              "    &lt;link rel=&quot;stylesheet&quot; href=&quot;https://cdn.jsdelivr.net/gh/python-visualization/folium/folium/templates/leaflet.awesome.rotate.min.css&quot;/&gt;\n",
              "    \n",
              "            &lt;meta name=&quot;viewport&quot; content=&quot;width=device-width,\n",
              "                initial-scale=1.0, maximum-scale=1.0, user-scalable=no&quot; /&gt;\n",
              "            &lt;style&gt;\n",
              "                #map_d4fb9faef0f605e53b005f1b7d82ecf6 {\n",
              "                    position: relative;\n",
              "                    width: 100.0%;\n",
              "                    height: 100.0%;\n",
              "                    left: 0.0%;\n",
              "                    top: 0.0%;\n",
              "                }\n",
              "                .leaflet-container { font-size: 1rem; }\n",
              "            &lt;/style&gt;\n",
              "        \n",
              "&lt;/head&gt;\n",
              "&lt;body&gt;\n",
              "    \n",
              "    \n",
              "            &lt;div class=&quot;folium-map&quot; id=&quot;map_d4fb9faef0f605e53b005f1b7d82ecf6&quot; &gt;&lt;/div&gt;\n",
              "        \n",
              "&lt;/body&gt;\n",
              "&lt;script&gt;\n",
              "    \n",
              "    \n",
              "            var map_d4fb9faef0f605e53b005f1b7d82ecf6 = L.map(\n",
              "                &quot;map_d4fb9faef0f605e53b005f1b7d82ecf6&quot;,\n",
              "                {\n",
              "                    center: [37.0, -91.0],\n",
              "                    crs: L.CRS.EPSG3857,\n",
              "                    zoom: 7,\n",
              "                    zoomControl: true,\n",
              "                    preferCanvas: false,\n",
              "                }\n",
              "            );\n",
              "\n",
              "            \n",
              "\n",
              "        \n",
              "    \n",
              "            var tile_layer_af9d8265c0b9d5b8e6bbfffead1e06d2 = L.tileLayer(\n",
              "                &quot;https://tile.openstreetmap.org/{z}/{x}/{y}.png&quot;,\n",
              "                {&quot;attribution&quot;: &quot;\\u0026copy; \\u003ca href=\\&quot;https://www.openstreetmap.org/copyright\\&quot;\\u003eOpenStreetMap\\u003c/a\\u003e contributors&quot;, &quot;detectRetina&quot;: false, &quot;maxNativeZoom&quot;: 19, &quot;maxZoom&quot;: 19, &quot;minZoom&quot;: 0, &quot;noWrap&quot;: false, &quot;opacity&quot;: 1, &quot;subdomains&quot;: &quot;abc&quot;, &quot;tms&quot;: false}\n",
              "            );\n",
              "        \n",
              "    \n",
              "            tile_layer_af9d8265c0b9d5b8e6bbfffead1e06d2.addTo(map_d4fb9faef0f605e53b005f1b7d82ecf6);\n",
              "        \n",
              "    \n",
              "            var rectangle_5be8c3d2afd9e78e0151badc2cf40591 = L.rectangle(\n",
              "                [[38.0034528, -90.7803989], [38.5017706, -90.2493501]],\n",
              "                {&quot;bubblingMouseEvents&quot;: true, &quot;color&quot;: &quot;blue&quot;, &quot;dashArray&quot;: null, &quot;dashOffset&quot;: null, &quot;fill&quot;: true, &quot;fillColor&quot;: &quot;blue&quot;, &quot;fillOpacity&quot;: 0.2, &quot;fillRule&quot;: &quot;evenodd&quot;, &quot;lineCap&quot;: &quot;round&quot;, &quot;lineJoin&quot;: &quot;round&quot;, &quot;noClip&quot;: false, &quot;opacity&quot;: 1.0, &quot;smoothFactor&quot;: 1.0, &quot;stroke&quot;: true, &quot;weight&quot;: 3}\n",
              "            ).addTo(map_d4fb9faef0f605e53b005f1b7d82ecf6);\n",
              "        \n",
              "    \n",
              "        var popup_d38d845d38f5af72f3db3dc9ea7a59fc = L.popup({&quot;maxWidth&quot;: &quot;100%&quot;});\n",
              "\n",
              "        \n",
              "            \n",
              "                var html_a414deb000ffa31d04cbd128be954196 = $(`&lt;div id=&quot;html_a414deb000ffa31d04cbd128be954196&quot; style=&quot;width: 100.0%; height: 100.0%;&quot;&gt;Jefferson County, Missouri&lt;/div&gt;`)[0];\n",
              "                popup_d38d845d38f5af72f3db3dc9ea7a59fc.setContent(html_a414deb000ffa31d04cbd128be954196);\n",
              "            \n",
              "        \n",
              "\n",
              "        rectangle_5be8c3d2afd9e78e0151badc2cf40591.bindPopup(popup_d38d845d38f5af72f3db3dc9ea7a59fc)\n",
              "        ;\n",
              "\n",
              "        \n",
              "    \n",
              "    \n",
              "            var rectangle_9b0253d1a1c8f1caf228555bb0212c4d = L.rectangle(\n",
              "                [[38.1129483, -90.5856687], [38.176153, -90.5286177]],\n",
              "                {&quot;bubblingMouseEvents&quot;: true, &quot;color&quot;: &quot;blue&quot;, &quot;dashArray&quot;: null, &quot;dashOffset&quot;: null, &quot;fill&quot;: true, &quot;fillColor&quot;: &quot;blue&quot;, &quot;fillOpacity&quot;: 0.2, &quot;fillRule&quot;: &quot;evenodd&quot;, &quot;lineCap&quot;: &quot;round&quot;, &quot;lineJoin&quot;: &quot;round&quot;, &quot;noClip&quot;: false, &quot;opacity&quot;: 1.0, &quot;smoothFactor&quot;: 1.0, &quot;stroke&quot;: true, &quot;weight&quot;: 3}\n",
              "            ).addTo(map_d4fb9faef0f605e53b005f1b7d82ecf6);\n",
              "        \n",
              "    \n",
              "        var popup_a844bca5d67b2f6fc8b33cde14e770b2 = L.popup({&quot;maxWidth&quot;: &quot;100%&quot;});\n",
              "\n",
              "        \n",
              "            \n",
              "                var html_010746925bebf99fa786ac7eccd9a0ce = $(`&lt;div id=&quot;html_010746925bebf99fa786ac7eccd9a0ce&quot; style=&quot;width: 100.0%; height: 100.0%;&quot;&gt;De Soto&lt;/div&gt;`)[0];\n",
              "                popup_a844bca5d67b2f6fc8b33cde14e770b2.setContent(html_010746925bebf99fa786ac7eccd9a0ce);\n",
              "            \n",
              "        \n",
              "\n",
              "        rectangle_9b0253d1a1c8f1caf228555bb0212c4d.bindPopup(popup_a844bca5d67b2f6fc8b33cde14e770b2)\n",
              "        ;\n",
              "\n",
              "        \n",
              "    \n",
              "    \n",
              "            var rectangle_e48cbc913c7dc1427bb30e7b6fce8b87 = L.rectangle(\n",
              "                [[37.6894416, -90.9652997], [38.4719653, -90.4926]],\n",
              "                {&quot;bubblingMouseEvents&quot;: true, &quot;color&quot;: &quot;blue&quot;, &quot;dashArray&quot;: null, &quot;dashOffset&quot;: null, &quot;fill&quot;: true, &quot;fillColor&quot;: &quot;blue&quot;, &quot;fillOpacity&quot;: 0.2, &quot;fillRule&quot;: &quot;evenodd&quot;, &quot;lineCap&quot;: &quot;round&quot;, &quot;lineJoin&quot;: &quot;round&quot;, &quot;noClip&quot;: false, &quot;opacity&quot;: 1.0, &quot;smoothFactor&quot;: 1.0, &quot;stroke&quot;: true, &quot;weight&quot;: 3}\n",
              "            ).addTo(map_d4fb9faef0f605e53b005f1b7d82ecf6);\n",
              "        \n",
              "    \n",
              "        var popup_408fd419c5e3af4666f9efe4245146f5 = L.popup({&quot;maxWidth&quot;: &quot;100%&quot;});\n",
              "\n",
              "        \n",
              "            \n",
              "                var html_53274f1ebb66df95f19db599f980bc7b = $(`&lt;div id=&quot;html_53274f1ebb66df95f19db599f980bc7b&quot; style=&quot;width: 100.0%; height: 100.0%;&quot;&gt;Big River&lt;/div&gt;`)[0];\n",
              "                popup_408fd419c5e3af4666f9efe4245146f5.setContent(html_53274f1ebb66df95f19db599f980bc7b);\n",
              "            \n",
              "        \n",
              "\n",
              "        rectangle_e48cbc913c7dc1427bb30e7b6fce8b87.bindPopup(popup_408fd419c5e3af4666f9efe4245146f5)\n",
              "        ;\n",
              "\n",
              "        \n",
              "    \n",
              "    \n",
              "            var rectangle_78a3df5246ddce6bcb5af3bb8b5671d8 = L.rectangle(\n",
              "                [[38.1237325, -90.6772454], [38.1250434, -90.675232]],\n",
              "                {&quot;bubblingMouseEvents&quot;: true, &quot;color&quot;: &quot;blue&quot;, &quot;dashArray&quot;: null, &quot;dashOffset&quot;: null, &quot;fill&quot;: true, &quot;fillColor&quot;: &quot;blue&quot;, &quot;fillOpacity&quot;: 0.2, &quot;fillRule&quot;: &quot;evenodd&quot;, &quot;lineCap&quot;: &quot;round&quot;, &quot;lineJoin&quot;: &quot;round&quot;, &quot;noClip&quot;: false, &quot;opacity&quot;: 1.0, &quot;smoothFactor&quot;: 1.0, &quot;stroke&quot;: true, &quot;weight&quot;: 3}\n",
              "            ).addTo(map_d4fb9faef0f605e53b005f1b7d82ecf6);\n",
              "        \n",
              "    \n",
              "        var popup_f65deccf5111e6b12c06d3af2dbe2dd2 = L.popup({&quot;maxWidth&quot;: &quot;100%&quot;});\n",
              "\n",
              "        \n",
              "            \n",
              "                var html_8f0cfefdaad4377fdd1567332c0803a1 = $(`&lt;div id=&quot;html_8f0cfefdaad4377fdd1567332c0803a1&quot; style=&quot;width: 100.0%; height: 100.0%;&quot;&gt;Parker Creek&lt;/div&gt;`)[0];\n",
              "                popup_f65deccf5111e6b12c06d3af2dbe2dd2.setContent(html_8f0cfefdaad4377fdd1567332c0803a1);\n",
              "            \n",
              "        \n",
              "\n",
              "        rectangle_78a3df5246ddce6bcb5af3bb8b5671d8.bindPopup(popup_f65deccf5111e6b12c06d3af2dbe2dd2)\n",
              "        ;\n",
              "\n",
              "        \n",
              "    \n",
              "    \n",
              "            var marker_238ba9e0f20b36b922f5fe0a587b7b55 = L.marker(\n",
              "                [38.125, -90.675],\n",
              "                {}\n",
              "            ).addTo(map_d4fb9faef0f605e53b005f1b7d82ecf6);\n",
              "        \n",
              "    \n",
              "            var icon_5870f2734837b33575a5d1b3ae0d6d95 = L.AwesomeMarkers.icon(\n",
              "                {&quot;extraClasses&quot;: &quot;fa-rotate-0&quot;, &quot;icon&quot;: &quot;info-sign&quot;, &quot;iconColor&quot;: &quot;white&quot;, &quot;markerColor&quot;: &quot;red&quot;, &quot;prefix&quot;: &quot;glyphicon&quot;}\n",
              "            );\n",
              "            marker_238ba9e0f20b36b922f5fe0a587b7b55.setIcon(icon_5870f2734837b33575a5d1b3ae0d6d95);\n",
              "        \n",
              "    \n",
              "        var popup_017cb1e17acef49baa400b280c8c04a8 = L.popup({&quot;maxWidth&quot;: &quot;100%&quot;});\n",
              "\n",
              "        \n",
              "            \n",
              "                var html_ceafa59abf0006c39207b5a5f5f856b2 = $(`&lt;div id=&quot;html_ceafa59abf0006c39207b5a5f5f856b2&quot; style=&quot;width: 100.0%; height: 100.0%;&quot;&gt;Actual Coordinate&lt;/div&gt;`)[0];\n",
              "                popup_017cb1e17acef49baa400b280c8c04a8.setContent(html_ceafa59abf0006c39207b5a5f5f856b2);\n",
              "            \n",
              "        \n",
              "\n",
              "        marker_238ba9e0f20b36b922f5fe0a587b7b55.bindPopup(popup_017cb1e17acef49baa400b280c8c04a8)\n",
              "        ;\n",
              "\n",
              "        \n",
              "    \n",
              "    \n",
              "            tile_layer_af9d8265c0b9d5b8e6bbfffead1e06d2.addTo(map_d4fb9faef0f605e53b005f1b7d82ecf6);\n",
              "        \n",
              "&lt;/script&gt;\n",
              "&lt;/html&gt;\" style=\"position:absolute;width:100%;height:100%;left:0;top:0;border:none !important;\" allowfullscreen webkitallowfullscreen mozallowfullscreen></iframe></div></div>"
            ]
          },
          "metadata": {},
          "execution_count": 122
        }
      ]
    },
    {
      "cell_type": "code",
      "source": [
        "for entity in output['Relations']:\n",
        "  if 'direction' in entity:\n",
        "    print(entity['distance_miles'])\n",
        "\n"
      ],
      "metadata": {
        "colab": {
          "base_uri": "https://localhost:8080/",
          "height": 52
        },
        "id": "MHbfowY5qKT9",
        "outputId": "2360a3f9-d73a-455b-89fb-fc00060e8c65"
      },
      "execution_count": 129,
      "outputs": [
        {
          "output_type": "display_data",
          "data": {
            "text/plain": [
              "<IPython.core.display.HTML object>"
            ],
            "text/html": [
              "\n",
              "  <style>\n",
              "    pre {\n",
              "        white-space: pre-wrap;\n",
              "    }\n",
              "  </style>\n",
              "  "
            ]
          },
          "metadata": {}
        },
        {
          "output_type": "stream",
          "name": "stdout",
          "text": [
            "6.5\n",
            "0.1\n"
          ]
        }
      ]
    },
    {
      "cell_type": "code",
      "source": [
        "params = output['Relations'][0]\n",
        "params"
      ],
      "metadata": {
        "colab": {
          "base_uri": "https://localhost:8080/",
          "height": 86
        },
        "id": "40A0TCEirSv8",
        "outputId": "9c4cefce-33f3-4d0f-82bb-77f658c9994c"
      },
      "execution_count": 175,
      "outputs": [
        {
          "output_type": "display_data",
          "data": {
            "text/plain": [
              "<IPython.core.display.HTML object>"
            ],
            "text/html": [
              "\n",
              "  <style>\n",
              "    pre {\n",
              "        white-space: pre-wrap;\n",
              "    }\n",
              "  </style>\n",
              "  "
            ]
          },
          "metadata": {}
        },
        {
          "output_type": "execute_result",
          "data": {
            "text/plain": [
              "{'entity': 'De Soto',\n",
              " 'direction': 'W',\n",
              " 'distance_miles': 6.5,\n",
              " 'distance_km': 10.5}"
            ]
          },
          "metadata": {},
          "execution_count": 175
        }
      ]
    },
    {
      "cell_type": "code",
      "source": [
        "import math\n",
        "\n",
        "def calculate_new_bounding_box(bounding_box, direction, distance_miles):\n",
        "    # Convert miles to degrees (approximation)\n",
        "    distance_degrees = distance_miles * 0.01449275362\n",
        "\n",
        "    # Original bounding box coordinates\n",
        "    south_lat = float(bounding_box[0])\n",
        "    north_lat = float(bounding_box[1])\n",
        "    west_lon = float(bounding_box[2])\n",
        "    east_lon = float(bounding_box[3])\n",
        "\n",
        "    # Initialize offsets\n",
        "    lat_offset = 0\n",
        "    lon_offset = 0\n",
        "\n",
        "    # Calculate offsets based on direction\n",
        "    if direction == 'N':\n",
        "        lat_offset = distance_degrees\n",
        "    elif direction == 'S':\n",
        "        lat_offset = -distance_degrees\n",
        "    elif direction == 'E':\n",
        "        lon_offset = distance_degrees\n",
        "    elif direction == 'W':\n",
        "        lon_offset = -distance_degrees\n",
        "    elif direction == 'NE':\n",
        "        lat_offset = distance_degrees * math.cos(math.radians(45))\n",
        "        lon_offset = distance_degrees * math.sin(math.radians(45))\n",
        "    elif direction == 'SE':\n",
        "        lat_offset = -distance_degrees * math.cos(math.radians(45))\n",
        "        lon_offset = distance_degrees * math.sin(math.radians(45))\n",
        "    elif direction == 'SW':\n",
        "        lat_offset = -distance_degrees * math.cos(math.radians(45))\n",
        "        lon_offset = -distance_degrees * math.sin(math.radians(45))\n",
        "    elif direction == 'NW':\n",
        "        lat_offset = distance_degrees * math.cos(math.radians(45))\n",
        "        lon_offset = -distance_degrees * math.sin(math.radians(45))\n",
        "    else:\n",
        "        raise ValueError(f\"Invalid direction: {direction}\")\n",
        "\n",
        "    # Calculate new bounding box coordinates\n",
        "    new_south_lat = south_lat + lat_offset\n",
        "    new_north_lat = north_lat + lat_offset\n",
        "    new_west_lon = west_lon + lon_offset\n",
        "    new_east_lon = east_lon + lon_offset\n",
        "\n",
        "    return [new_south_lat, new_north_lat, new_west_lon, new_east_lon]\n"
      ],
      "metadata": {
        "colab": {
          "base_uri": "https://localhost:8080/",
          "height": 17
        },
        "id": "IkFzM1i_s-LI",
        "outputId": "4021cfe1-c2c5-4f6a-9061-08af83a5ad99"
      },
      "execution_count": 176,
      "outputs": [
        {
          "output_type": "display_data",
          "data": {
            "text/plain": [
              "<IPython.core.display.HTML object>"
            ],
            "text/html": [
              "\n",
              "  <style>\n",
              "    pre {\n",
              "        white-space: pre-wrap;\n",
              "    }\n",
              "  </style>\n",
              "  "
            ]
          },
          "metadata": {}
        }
      ]
    },
    {
      "cell_type": "code",
      "source": [
        "bounding_box = locations[params['entity']].raw['boundingbox']\n",
        "\n",
        "# Calculate new bounding box\n",
        "new_bounding_box = calculate_new_bounding_box(bounding_box, params['direction'], params['distance_miles'])\n",
        "\n",
        "# Create a map centered around the original bounding box\n",
        "m = folium.Map(location=[(float(bounding_box[0]) + float(bounding_box[1])) / 2, (float(bounding_box[2]) + float(bounding_box[3])) / 2], zoom_start=12)\n",
        "\n",
        "# Add the original bounding box\n",
        "folium.Rectangle(\n",
        "    bounds=[[float(bounding_box[0]), float(bounding_box[2])], [float(bounding_box[1]), float(bounding_box[3])]],\n",
        "    color='blue',\n",
        "    fill=True,\n",
        "    fill_opacity=0.2,\n",
        "    popup='Original Bounding Box'\n",
        ").add_to(m)\n",
        "\n",
        "# Add the new bounding box based on direction\n",
        "folium.Rectangle(\n",
        "    bounds=[[new_bounding_box[0], new_bounding_box[2]], [new_bounding_box[1], new_bounding_box[3]]],\n",
        "    color='green',\n",
        "    fill=True,\n",
        "    fill_opacity=0.2,\n",
        "    popup='New Bounding Box'\n",
        ").add_to(m)\n",
        "\n",
        "folium.Marker(\n",
        "    location=(lat, lon),\n",
        "    popup='Actual Coordinate',  # Optional popup text\n",
        "    icon=folium.Icon(color='red')  # Customize marker color\n",
        ").add_to(m)\n",
        "\n",
        "# Save the map to an HTML file\n",
        "m"
      ],
      "metadata": {
        "colab": {
          "base_uri": "https://localhost:8080/",
          "height": 582
        },
        "id": "kRt_zkdSo5vI",
        "outputId": "36f4b87d-9310-4a3f-f903-e78f47d41a39"
      },
      "execution_count": 179,
      "outputs": [
        {
          "output_type": "display_data",
          "data": {
            "text/plain": [
              "<IPython.core.display.HTML object>"
            ],
            "text/html": [
              "\n",
              "  <style>\n",
              "    pre {\n",
              "        white-space: pre-wrap;\n",
              "    }\n",
              "  </style>\n",
              "  "
            ]
          },
          "metadata": {}
        },
        {
          "output_type": "execute_result",
          "data": {
            "text/plain": [
              "<folium.folium.Map at 0x7d6726cbc340>"
            ],
            "text/html": [
              "<div style=\"width:100%;\"><div style=\"position:relative;width:100%;height:0;padding-bottom:60%;\"><span style=\"color:#565656\">Make this Notebook Trusted to load map: File -> Trust Notebook</span><iframe srcdoc=\"&lt;!DOCTYPE html&gt;\n",
              "&lt;html&gt;\n",
              "&lt;head&gt;\n",
              "    \n",
              "    &lt;meta http-equiv=&quot;content-type&quot; content=&quot;text/html; charset=UTF-8&quot; /&gt;\n",
              "    \n",
              "        &lt;script&gt;\n",
              "            L_NO_TOUCH = false;\n",
              "            L_DISABLE_3D = false;\n",
              "        &lt;/script&gt;\n",
              "    \n",
              "    &lt;style&gt;html, body {width: 100%;height: 100%;margin: 0;padding: 0;}&lt;/style&gt;\n",
              "    &lt;style&gt;#map {position:absolute;top:0;bottom:0;right:0;left:0;}&lt;/style&gt;\n",
              "    &lt;script src=&quot;https://cdn.jsdelivr.net/npm/leaflet@1.9.3/dist/leaflet.js&quot;&gt;&lt;/script&gt;\n",
              "    &lt;script src=&quot;https://code.jquery.com/jquery-3.7.1.min.js&quot;&gt;&lt;/script&gt;\n",
              "    &lt;script src=&quot;https://cdn.jsdelivr.net/npm/bootstrap@5.2.2/dist/js/bootstrap.bundle.min.js&quot;&gt;&lt;/script&gt;\n",
              "    &lt;script src=&quot;https://cdnjs.cloudflare.com/ajax/libs/Leaflet.awesome-markers/2.0.2/leaflet.awesome-markers.js&quot;&gt;&lt;/script&gt;\n",
              "    &lt;link rel=&quot;stylesheet&quot; href=&quot;https://cdn.jsdelivr.net/npm/leaflet@1.9.3/dist/leaflet.css&quot;/&gt;\n",
              "    &lt;link rel=&quot;stylesheet&quot; href=&quot;https://cdn.jsdelivr.net/npm/bootstrap@5.2.2/dist/css/bootstrap.min.css&quot;/&gt;\n",
              "    &lt;link rel=&quot;stylesheet&quot; href=&quot;https://netdna.bootstrapcdn.com/bootstrap/3.0.0/css/bootstrap-glyphicons.css&quot;/&gt;\n",
              "    &lt;link rel=&quot;stylesheet&quot; href=&quot;https://cdn.jsdelivr.net/npm/@fortawesome/fontawesome-free@6.2.0/css/all.min.css&quot;/&gt;\n",
              "    &lt;link rel=&quot;stylesheet&quot; href=&quot;https://cdnjs.cloudflare.com/ajax/libs/Leaflet.awesome-markers/2.0.2/leaflet.awesome-markers.css&quot;/&gt;\n",
              "    &lt;link rel=&quot;stylesheet&quot; href=&quot;https://cdn.jsdelivr.net/gh/python-visualization/folium/folium/templates/leaflet.awesome.rotate.min.css&quot;/&gt;\n",
              "    \n",
              "            &lt;meta name=&quot;viewport&quot; content=&quot;width=device-width,\n",
              "                initial-scale=1.0, maximum-scale=1.0, user-scalable=no&quot; /&gt;\n",
              "            &lt;style&gt;\n",
              "                #map_1ed00ff13354525e5cacf8a435826a73 {\n",
              "                    position: relative;\n",
              "                    width: 100.0%;\n",
              "                    height: 100.0%;\n",
              "                    left: 0.0%;\n",
              "                    top: 0.0%;\n",
              "                }\n",
              "                .leaflet-container { font-size: 1rem; }\n",
              "            &lt;/style&gt;\n",
              "        \n",
              "&lt;/head&gt;\n",
              "&lt;body&gt;\n",
              "    \n",
              "    \n",
              "            &lt;div class=&quot;folium-map&quot; id=&quot;map_1ed00ff13354525e5cacf8a435826a73&quot; &gt;&lt;/div&gt;\n",
              "        \n",
              "&lt;/body&gt;\n",
              "&lt;script&gt;\n",
              "    \n",
              "    \n",
              "            var map_1ed00ff13354525e5cacf8a435826a73 = L.map(\n",
              "                &quot;map_1ed00ff13354525e5cacf8a435826a73&quot;,\n",
              "                {\n",
              "                    center: [38.14455065, -90.5571432],\n",
              "                    crs: L.CRS.EPSG3857,\n",
              "                    zoom: 12,\n",
              "                    zoomControl: true,\n",
              "                    preferCanvas: false,\n",
              "                }\n",
              "            );\n",
              "\n",
              "            \n",
              "\n",
              "        \n",
              "    \n",
              "            var tile_layer_094eaffae291b66ce85a63a0b31052f9 = L.tileLayer(\n",
              "                &quot;https://tile.openstreetmap.org/{z}/{x}/{y}.png&quot;,\n",
              "                {&quot;attribution&quot;: &quot;\\u0026copy; \\u003ca href=\\&quot;https://www.openstreetmap.org/copyright\\&quot;\\u003eOpenStreetMap\\u003c/a\\u003e contributors&quot;, &quot;detectRetina&quot;: false, &quot;maxNativeZoom&quot;: 19, &quot;maxZoom&quot;: 19, &quot;minZoom&quot;: 0, &quot;noWrap&quot;: false, &quot;opacity&quot;: 1, &quot;subdomains&quot;: &quot;abc&quot;, &quot;tms&quot;: false}\n",
              "            );\n",
              "        \n",
              "    \n",
              "            tile_layer_094eaffae291b66ce85a63a0b31052f9.addTo(map_1ed00ff13354525e5cacf8a435826a73);\n",
              "        \n",
              "    \n",
              "            var rectangle_f8f60bbe79cb384efb800f1cf27b8b2a = L.rectangle(\n",
              "                [[38.1129483, -90.5856687], [38.176153, -90.5286177]],\n",
              "                {&quot;bubblingMouseEvents&quot;: true, &quot;color&quot;: &quot;blue&quot;, &quot;dashArray&quot;: null, &quot;dashOffset&quot;: null, &quot;fill&quot;: true, &quot;fillColor&quot;: &quot;blue&quot;, &quot;fillOpacity&quot;: 0.2, &quot;fillRule&quot;: &quot;evenodd&quot;, &quot;lineCap&quot;: &quot;round&quot;, &quot;lineJoin&quot;: &quot;round&quot;, &quot;noClip&quot;: false, &quot;opacity&quot;: 1.0, &quot;smoothFactor&quot;: 1.0, &quot;stroke&quot;: true, &quot;weight&quot;: 3}\n",
              "            ).addTo(map_1ed00ff13354525e5cacf8a435826a73);\n",
              "        \n",
              "    \n",
              "        var popup_b9142e047f887806fa77d96e3b1d2e3f = L.popup({&quot;maxWidth&quot;: &quot;100%&quot;});\n",
              "\n",
              "        \n",
              "            \n",
              "                var html_11d12c97c71bce873f6bf2045900f014 = $(`&lt;div id=&quot;html_11d12c97c71bce873f6bf2045900f014&quot; style=&quot;width: 100.0%; height: 100.0%;&quot;&gt;Original Bounding Box&lt;/div&gt;`)[0];\n",
              "                popup_b9142e047f887806fa77d96e3b1d2e3f.setContent(html_11d12c97c71bce873f6bf2045900f014);\n",
              "            \n",
              "        \n",
              "\n",
              "        rectangle_f8f60bbe79cb384efb800f1cf27b8b2a.bindPopup(popup_b9142e047f887806fa77d96e3b1d2e3f)\n",
              "        ;\n",
              "\n",
              "        \n",
              "    \n",
              "    \n",
              "            var rectangle_1082aafd878cc9e2a8cc4ae884f6fe85 = L.rectangle(\n",
              "                [[38.1129483, -90.67987159853], [38.176153, -90.62282059853]],\n",
              "                {&quot;bubblingMouseEvents&quot;: true, &quot;color&quot;: &quot;green&quot;, &quot;dashArray&quot;: null, &quot;dashOffset&quot;: null, &quot;fill&quot;: true, &quot;fillColor&quot;: &quot;green&quot;, &quot;fillOpacity&quot;: 0.2, &quot;fillRule&quot;: &quot;evenodd&quot;, &quot;lineCap&quot;: &quot;round&quot;, &quot;lineJoin&quot;: &quot;round&quot;, &quot;noClip&quot;: false, &quot;opacity&quot;: 1.0, &quot;smoothFactor&quot;: 1.0, &quot;stroke&quot;: true, &quot;weight&quot;: 3}\n",
              "            ).addTo(map_1ed00ff13354525e5cacf8a435826a73);\n",
              "        \n",
              "    \n",
              "        var popup_c4b6f361bb652af79f75ac0e291ff343 = L.popup({&quot;maxWidth&quot;: &quot;100%&quot;});\n",
              "\n",
              "        \n",
              "            \n",
              "                var html_6b1aa7ca2a4be96e17dc852fa2bce10d = $(`&lt;div id=&quot;html_6b1aa7ca2a4be96e17dc852fa2bce10d&quot; style=&quot;width: 100.0%; height: 100.0%;&quot;&gt;New Bounding Box&lt;/div&gt;`)[0];\n",
              "                popup_c4b6f361bb652af79f75ac0e291ff343.setContent(html_6b1aa7ca2a4be96e17dc852fa2bce10d);\n",
              "            \n",
              "        \n",
              "\n",
              "        rectangle_1082aafd878cc9e2a8cc4ae884f6fe85.bindPopup(popup_c4b6f361bb652af79f75ac0e291ff343)\n",
              "        ;\n",
              "\n",
              "        \n",
              "    \n",
              "    \n",
              "            var marker_cd4c052bc48746ea9fe564b2f253d531 = L.marker(\n",
              "                [38.125, -90.675],\n",
              "                {}\n",
              "            ).addTo(map_1ed00ff13354525e5cacf8a435826a73);\n",
              "        \n",
              "    \n",
              "            var icon_0e64aab9d15d61b0d78a7dc908490932 = L.AwesomeMarkers.icon(\n",
              "                {&quot;extraClasses&quot;: &quot;fa-rotate-0&quot;, &quot;icon&quot;: &quot;info-sign&quot;, &quot;iconColor&quot;: &quot;white&quot;, &quot;markerColor&quot;: &quot;red&quot;, &quot;prefix&quot;: &quot;glyphicon&quot;}\n",
              "            );\n",
              "            marker_cd4c052bc48746ea9fe564b2f253d531.setIcon(icon_0e64aab9d15d61b0d78a7dc908490932);\n",
              "        \n",
              "    \n",
              "        var popup_6b70418b2a4e74a3108c141ad19a117b = L.popup({&quot;maxWidth&quot;: &quot;100%&quot;});\n",
              "\n",
              "        \n",
              "            \n",
              "                var html_a94910e4e1acc59927a7c5039dfda57f = $(`&lt;div id=&quot;html_a94910e4e1acc59927a7c5039dfda57f&quot; style=&quot;width: 100.0%; height: 100.0%;&quot;&gt;Actual Coordinate&lt;/div&gt;`)[0];\n",
              "                popup_6b70418b2a4e74a3108c141ad19a117b.setContent(html_a94910e4e1acc59927a7c5039dfda57f);\n",
              "            \n",
              "        \n",
              "\n",
              "        marker_cd4c052bc48746ea9fe564b2f253d531.bindPopup(popup_6b70418b2a4e74a3108c141ad19a117b)\n",
              "        ;\n",
              "\n",
              "        \n",
              "    \n",
              "&lt;/script&gt;\n",
              "&lt;/html&gt;\" style=\"position:absolute;width:100%;height:100%;left:0;top:0;border:none !important;\" allowfullscreen webkitallowfullscreen mozallowfullscreen></iframe></div></div>"
            ]
          },
          "metadata": {},
          "execution_count": 179
        }
      ]
    },
    {
      "cell_type": "code",
      "source": [
        "# It's a bit complicated to do NNE, so I'll just change to NE\n",
        "display(output['Relations'][1])\n",
        "params2 = {'entity': 'Big River',\n",
        " 'direction': 'NE',\n",
        " 'distance_miles': 0.1,\n",
        " 'distance_km': 0.16,\n",
        " 'relation': 'above bluff near'}\n",
        "\n",
        "# It's actually a little North of Parker Creek -- but that's not picked up!"
      ],
      "metadata": {
        "colab": {
          "base_uri": "https://localhost:8080/",
          "height": 104
        },
        "id": "yPjOn3FEsG8x",
        "outputId": "6beb2f72-1d47-4321-c861-4a048b2f70a9"
      },
      "execution_count": 173,
      "outputs": [
        {
          "output_type": "display_data",
          "data": {
            "text/plain": [
              "<IPython.core.display.HTML object>"
            ],
            "text/html": [
              "\n",
              "  <style>\n",
              "    pre {\n",
              "        white-space: pre-wrap;\n",
              "    }\n",
              "  </style>\n",
              "  "
            ]
          },
          "metadata": {}
        },
        {
          "output_type": "display_data",
          "data": {
            "text/plain": [
              "{'entity': 'Big River',\n",
              " 'direction': 'NNE',\n",
              " 'distance_miles': 0.1,\n",
              " 'distance_km': 0.16,\n",
              " 'relation': 'above bluff near'}"
            ]
          },
          "metadata": {}
        }
      ]
    },
    {
      "cell_type": "code",
      "source": [
        "bounding_box = locations['Parker Creek'].raw['boundingbox']\n",
        "\n",
        "# Calculate new bounding box\n",
        "new_bounding_box2 = calculate_new_bounding_box(bounding_box, params2['direction'], params2['distance_miles'])\n",
        "\n",
        "# Create a map centered around the original bounding box\n",
        "m = folium.Map(location=[(float(bounding_box[0]) + float(bounding_box[1])) / 2, (float(bounding_box[2]) + float(bounding_box[3])) / 2], zoom_start=12)\n",
        "\n",
        "# Add the original bounding box\n",
        "folium.Rectangle(\n",
        "    bounds=[[float(bounding_box[0]), float(bounding_box[2])], [float(bounding_box[1]), float(bounding_box[3])]],\n",
        "    color='blue',\n",
        "    fill=True,\n",
        "    fill_opacity=0.2,\n",
        "    popup='Original Bounding Box'\n",
        ").add_to(m)\n",
        "\n",
        "# Add the new bounding box based on direction\n",
        "folium.Rectangle(\n",
        "    bounds=[[new_bounding_box2[0], new_bounding_box2[2]], [new_bounding_box2[1], new_bounding_box2[3]]],\n",
        "    color='green',\n",
        "    fill=True,\n",
        "    fill_opacity=0.2,\n",
        "    popup='New Bounding Box'\n",
        ").add_to(m)\n",
        "\n",
        "folium.Marker(\n",
        "    location=(lat, lon),\n",
        "    popup='Actual Coordinate',  # Optional popup text\n",
        "    icon=folium.Icon(color='red')  # Customize marker color\n",
        ").add_to(m)\n",
        "\n",
        "# Save the map to an HTML file\n",
        "m"
      ],
      "metadata": {
        "colab": {
          "base_uri": "https://localhost:8080/",
          "height": 582
        },
        "id": "5SRRPerMtZgz",
        "outputId": "5105340a-6a46-4969-bc83-d5d851b04e2d"
      },
      "execution_count": 178,
      "outputs": [
        {
          "output_type": "display_data",
          "data": {
            "text/plain": [
              "<IPython.core.display.HTML object>"
            ],
            "text/html": [
              "\n",
              "  <style>\n",
              "    pre {\n",
              "        white-space: pre-wrap;\n",
              "    }\n",
              "  </style>\n",
              "  "
            ]
          },
          "metadata": {}
        },
        {
          "output_type": "execute_result",
          "data": {
            "text/plain": [
              "<folium.folium.Map at 0x7d6726cbeb60>"
            ],
            "text/html": [
              "<div style=\"width:100%;\"><div style=\"position:relative;width:100%;height:0;padding-bottom:60%;\"><span style=\"color:#565656\">Make this Notebook Trusted to load map: File -> Trust Notebook</span><iframe srcdoc=\"&lt;!DOCTYPE html&gt;\n",
              "&lt;html&gt;\n",
              "&lt;head&gt;\n",
              "    \n",
              "    &lt;meta http-equiv=&quot;content-type&quot; content=&quot;text/html; charset=UTF-8&quot; /&gt;\n",
              "    \n",
              "        &lt;script&gt;\n",
              "            L_NO_TOUCH = false;\n",
              "            L_DISABLE_3D = false;\n",
              "        &lt;/script&gt;\n",
              "    \n",
              "    &lt;style&gt;html, body {width: 100%;height: 100%;margin: 0;padding: 0;}&lt;/style&gt;\n",
              "    &lt;style&gt;#map {position:absolute;top:0;bottom:0;right:0;left:0;}&lt;/style&gt;\n",
              "    &lt;script src=&quot;https://cdn.jsdelivr.net/npm/leaflet@1.9.3/dist/leaflet.js&quot;&gt;&lt;/script&gt;\n",
              "    &lt;script src=&quot;https://code.jquery.com/jquery-3.7.1.min.js&quot;&gt;&lt;/script&gt;\n",
              "    &lt;script src=&quot;https://cdn.jsdelivr.net/npm/bootstrap@5.2.2/dist/js/bootstrap.bundle.min.js&quot;&gt;&lt;/script&gt;\n",
              "    &lt;script src=&quot;https://cdnjs.cloudflare.com/ajax/libs/Leaflet.awesome-markers/2.0.2/leaflet.awesome-markers.js&quot;&gt;&lt;/script&gt;\n",
              "    &lt;link rel=&quot;stylesheet&quot; href=&quot;https://cdn.jsdelivr.net/npm/leaflet@1.9.3/dist/leaflet.css&quot;/&gt;\n",
              "    &lt;link rel=&quot;stylesheet&quot; href=&quot;https://cdn.jsdelivr.net/npm/bootstrap@5.2.2/dist/css/bootstrap.min.css&quot;/&gt;\n",
              "    &lt;link rel=&quot;stylesheet&quot; href=&quot;https://netdna.bootstrapcdn.com/bootstrap/3.0.0/css/bootstrap-glyphicons.css&quot;/&gt;\n",
              "    &lt;link rel=&quot;stylesheet&quot; href=&quot;https://cdn.jsdelivr.net/npm/@fortawesome/fontawesome-free@6.2.0/css/all.min.css&quot;/&gt;\n",
              "    &lt;link rel=&quot;stylesheet&quot; href=&quot;https://cdnjs.cloudflare.com/ajax/libs/Leaflet.awesome-markers/2.0.2/leaflet.awesome-markers.css&quot;/&gt;\n",
              "    &lt;link rel=&quot;stylesheet&quot; href=&quot;https://cdn.jsdelivr.net/gh/python-visualization/folium/folium/templates/leaflet.awesome.rotate.min.css&quot;/&gt;\n",
              "    \n",
              "            &lt;meta name=&quot;viewport&quot; content=&quot;width=device-width,\n",
              "                initial-scale=1.0, maximum-scale=1.0, user-scalable=no&quot; /&gt;\n",
              "            &lt;style&gt;\n",
              "                #map_8d8b746071db8e2fdcf1feda36fa2cb0 {\n",
              "                    position: relative;\n",
              "                    width: 100.0%;\n",
              "                    height: 100.0%;\n",
              "                    left: 0.0%;\n",
              "                    top: 0.0%;\n",
              "                }\n",
              "                .leaflet-container { font-size: 1rem; }\n",
              "            &lt;/style&gt;\n",
              "        \n",
              "&lt;/head&gt;\n",
              "&lt;body&gt;\n",
              "    \n",
              "    \n",
              "            &lt;div class=&quot;folium-map&quot; id=&quot;map_8d8b746071db8e2fdcf1feda36fa2cb0&quot; &gt;&lt;/div&gt;\n",
              "        \n",
              "&lt;/body&gt;\n",
              "&lt;script&gt;\n",
              "    \n",
              "    \n",
              "            var map_8d8b746071db8e2fdcf1feda36fa2cb0 = L.map(\n",
              "                &quot;map_8d8b746071db8e2fdcf1feda36fa2cb0&quot;,\n",
              "                {\n",
              "                    center: [38.12438795, -90.6762387],\n",
              "                    crs: L.CRS.EPSG3857,\n",
              "                    zoom: 12,\n",
              "                    zoomControl: true,\n",
              "                    preferCanvas: false,\n",
              "                }\n",
              "            );\n",
              "\n",
              "            \n",
              "\n",
              "        \n",
              "    \n",
              "            var tile_layer_824fd3532eaeeb40d609ad60e9a906c1 = L.tileLayer(\n",
              "                &quot;https://tile.openstreetmap.org/{z}/{x}/{y}.png&quot;,\n",
              "                {&quot;attribution&quot;: &quot;\\u0026copy; \\u003ca href=\\&quot;https://www.openstreetmap.org/copyright\\&quot;\\u003eOpenStreetMap\\u003c/a\\u003e contributors&quot;, &quot;detectRetina&quot;: false, &quot;maxNativeZoom&quot;: 19, &quot;maxZoom&quot;: 19, &quot;minZoom&quot;: 0, &quot;noWrap&quot;: false, &quot;opacity&quot;: 1, &quot;subdomains&quot;: &quot;abc&quot;, &quot;tms&quot;: false}\n",
              "            );\n",
              "        \n",
              "    \n",
              "            tile_layer_824fd3532eaeeb40d609ad60e9a906c1.addTo(map_8d8b746071db8e2fdcf1feda36fa2cb0);\n",
              "        \n",
              "    \n",
              "            var rectangle_cdb164e7e6bf49c10632969d7aed25dd = L.rectangle(\n",
              "                [[38.1237325, -90.6772454], [38.1250434, -90.675232]],\n",
              "                {&quot;bubblingMouseEvents&quot;: true, &quot;color&quot;: &quot;blue&quot;, &quot;dashArray&quot;: null, &quot;dashOffset&quot;: null, &quot;fill&quot;: true, &quot;fillColor&quot;: &quot;blue&quot;, &quot;fillOpacity&quot;: 0.2, &quot;fillRule&quot;: &quot;evenodd&quot;, &quot;lineCap&quot;: &quot;round&quot;, &quot;lineJoin&quot;: &quot;round&quot;, &quot;noClip&quot;: false, &quot;opacity&quot;: 1.0, &quot;smoothFactor&quot;: 1.0, &quot;stroke&quot;: true, &quot;weight&quot;: 3}\n",
              "            ).addTo(map_8d8b746071db8e2fdcf1feda36fa2cb0);\n",
              "        \n",
              "    \n",
              "        var popup_5c253096e8939d83af8609e407c95e09 = L.popup({&quot;maxWidth&quot;: &quot;100%&quot;});\n",
              "\n",
              "        \n",
              "            \n",
              "                var html_321930293e5b008bf41e40d51c2161b9 = $(`&lt;div id=&quot;html_321930293e5b008bf41e40d51c2161b9&quot; style=&quot;width: 100.0%; height: 100.0%;&quot;&gt;Original Bounding Box&lt;/div&gt;`)[0];\n",
              "                popup_5c253096e8939d83af8609e407c95e09.setContent(html_321930293e5b008bf41e40d51c2161b9);\n",
              "            \n",
              "        \n",
              "\n",
              "        rectangle_cdb164e7e6bf49c10632969d7aed25dd.bindPopup(popup_5c253096e8939d83af8609e407c95e09)\n",
              "        ;\n",
              "\n",
              "        \n",
              "    \n",
              "    \n",
              "            var rectangle_68ba1185c963453f39abc45562132a2d = L.rectangle(\n",
              "                [[38.12475729243628, -90.67622060756372], [38.12606819243628, -90.67420720756371]],\n",
              "                {&quot;bubblingMouseEvents&quot;: true, &quot;color&quot;: &quot;green&quot;, &quot;dashArray&quot;: null, &quot;dashOffset&quot;: null, &quot;fill&quot;: true, &quot;fillColor&quot;: &quot;green&quot;, &quot;fillOpacity&quot;: 0.2, &quot;fillRule&quot;: &quot;evenodd&quot;, &quot;lineCap&quot;: &quot;round&quot;, &quot;lineJoin&quot;: &quot;round&quot;, &quot;noClip&quot;: false, &quot;opacity&quot;: 1.0, &quot;smoothFactor&quot;: 1.0, &quot;stroke&quot;: true, &quot;weight&quot;: 3}\n",
              "            ).addTo(map_8d8b746071db8e2fdcf1feda36fa2cb0);\n",
              "        \n",
              "    \n",
              "        var popup_4a9689c3ad8b7248a09d26ad94b405b9 = L.popup({&quot;maxWidth&quot;: &quot;100%&quot;});\n",
              "\n",
              "        \n",
              "            \n",
              "                var html_a5fa98b2755cd004a63addbb4795e81a = $(`&lt;div id=&quot;html_a5fa98b2755cd004a63addbb4795e81a&quot; style=&quot;width: 100.0%; height: 100.0%;&quot;&gt;New Bounding Box&lt;/div&gt;`)[0];\n",
              "                popup_4a9689c3ad8b7248a09d26ad94b405b9.setContent(html_a5fa98b2755cd004a63addbb4795e81a);\n",
              "            \n",
              "        \n",
              "\n",
              "        rectangle_68ba1185c963453f39abc45562132a2d.bindPopup(popup_4a9689c3ad8b7248a09d26ad94b405b9)\n",
              "        ;\n",
              "\n",
              "        \n",
              "    \n",
              "    \n",
              "            var marker_a643ee52b59c4e14fcded6d56f8cd0cc = L.marker(\n",
              "                [38.125, -90.675],\n",
              "                {}\n",
              "            ).addTo(map_8d8b746071db8e2fdcf1feda36fa2cb0);\n",
              "        \n",
              "    \n",
              "            var icon_30ea9f176de7c1d636917c9fdf5d19bd = L.AwesomeMarkers.icon(\n",
              "                {&quot;extraClasses&quot;: &quot;fa-rotate-0&quot;, &quot;icon&quot;: &quot;info-sign&quot;, &quot;iconColor&quot;: &quot;white&quot;, &quot;markerColor&quot;: &quot;red&quot;, &quot;prefix&quot;: &quot;glyphicon&quot;}\n",
              "            );\n",
              "            marker_a643ee52b59c4e14fcded6d56f8cd0cc.setIcon(icon_30ea9f176de7c1d636917c9fdf5d19bd);\n",
              "        \n",
              "    \n",
              "        var popup_590418d11a5c194e262a3d7a5f96f066 = L.popup({&quot;maxWidth&quot;: &quot;100%&quot;});\n",
              "\n",
              "        \n",
              "            \n",
              "                var html_3bacf541a2b7eb7a007386dcdb67f8a2 = $(`&lt;div id=&quot;html_3bacf541a2b7eb7a007386dcdb67f8a2&quot; style=&quot;width: 100.0%; height: 100.0%;&quot;&gt;Actual Coordinate&lt;/div&gt;`)[0];\n",
              "                popup_590418d11a5c194e262a3d7a5f96f066.setContent(html_3bacf541a2b7eb7a007386dcdb67f8a2);\n",
              "            \n",
              "        \n",
              "\n",
              "        marker_a643ee52b59c4e14fcded6d56f8cd0cc.bindPopup(popup_590418d11a5c194e262a3d7a5f96f066)\n",
              "        ;\n",
              "\n",
              "        \n",
              "    \n",
              "&lt;/script&gt;\n",
              "&lt;/html&gt;\" style=\"position:absolute;width:100%;height:100%;left:0;top:0;border:none !important;\" allowfullscreen webkitallowfullscreen mozallowfullscreen></iframe></div></div>"
            ]
          },
          "metadata": {},
          "execution_count": 178
        }
      ]
    },
    {
      "cell_type": "code",
      "source": [
        "m = folium.Map(location=[(float(bounding_box[0]) + float(bounding_box[1])) / 2, (float(bounding_box[2]) + float(bounding_box[3])) / 2], zoom_start=12)\n",
        "\n",
        "# Add the new bounding box based on direction\n",
        "folium.Rectangle(\n",
        "    bounds=[[new_bounding_box2[0], new_bounding_box2[2]], [new_bounding_box2[1], new_bounding_box2[3]]],\n",
        "    color='green',\n",
        "    fill=True,\n",
        "    fill_opacity=0.2,\n",
        "    popup='New Bounding Box2'\n",
        ").add_to(m)\n",
        "\n",
        "# Add the new bounding box based on direction\n",
        "folium.Rectangle(\n",
        "    bounds=[[new_bounding_box[0], new_bounding_box[2]], [new_bounding_box[1], new_bounding_box[3]]],\n",
        "    color='green',\n",
        "    fill=True,\n",
        "    fill_opacity=0.2,\n",
        "    popup='New Bounding Box'\n",
        ").add_to(m)\n",
        "\n",
        "folium.Marker(\n",
        "    location=(lat, lon),\n",
        "    popup='Actual Coordinate',  # Optional popup text\n",
        "    icon=folium.Icon(color='red')  # Customize marker color\n",
        ").add_to(m)\n",
        "\n",
        "m"
      ],
      "metadata": {
        "colab": {
          "base_uri": "https://localhost:8080/",
          "height": 582
        },
        "id": "1xwwDgh5tZ1m",
        "outputId": "af0129d3-f62e-4b26-f048-07c36018c403"
      },
      "execution_count": 182,
      "outputs": [
        {
          "output_type": "display_data",
          "data": {
            "text/plain": [
              "<IPython.core.display.HTML object>"
            ],
            "text/html": [
              "\n",
              "  <style>\n",
              "    pre {\n",
              "        white-space: pre-wrap;\n",
              "    }\n",
              "  </style>\n",
              "  "
            ]
          },
          "metadata": {}
        },
        {
          "output_type": "execute_result",
          "data": {
            "text/plain": [
              "<folium.folium.Map at 0x7d6726cbdc90>"
            ],
            "text/html": [
              "<div style=\"width:100%;\"><div style=\"position:relative;width:100%;height:0;padding-bottom:60%;\"><span style=\"color:#565656\">Make this Notebook Trusted to load map: File -> Trust Notebook</span><iframe srcdoc=\"&lt;!DOCTYPE html&gt;\n",
              "&lt;html&gt;\n",
              "&lt;head&gt;\n",
              "    \n",
              "    &lt;meta http-equiv=&quot;content-type&quot; content=&quot;text/html; charset=UTF-8&quot; /&gt;\n",
              "    \n",
              "        &lt;script&gt;\n",
              "            L_NO_TOUCH = false;\n",
              "            L_DISABLE_3D = false;\n",
              "        &lt;/script&gt;\n",
              "    \n",
              "    &lt;style&gt;html, body {width: 100%;height: 100%;margin: 0;padding: 0;}&lt;/style&gt;\n",
              "    &lt;style&gt;#map {position:absolute;top:0;bottom:0;right:0;left:0;}&lt;/style&gt;\n",
              "    &lt;script src=&quot;https://cdn.jsdelivr.net/npm/leaflet@1.9.3/dist/leaflet.js&quot;&gt;&lt;/script&gt;\n",
              "    &lt;script src=&quot;https://code.jquery.com/jquery-3.7.1.min.js&quot;&gt;&lt;/script&gt;\n",
              "    &lt;script src=&quot;https://cdn.jsdelivr.net/npm/bootstrap@5.2.2/dist/js/bootstrap.bundle.min.js&quot;&gt;&lt;/script&gt;\n",
              "    &lt;script src=&quot;https://cdnjs.cloudflare.com/ajax/libs/Leaflet.awesome-markers/2.0.2/leaflet.awesome-markers.js&quot;&gt;&lt;/script&gt;\n",
              "    &lt;link rel=&quot;stylesheet&quot; href=&quot;https://cdn.jsdelivr.net/npm/leaflet@1.9.3/dist/leaflet.css&quot;/&gt;\n",
              "    &lt;link rel=&quot;stylesheet&quot; href=&quot;https://cdn.jsdelivr.net/npm/bootstrap@5.2.2/dist/css/bootstrap.min.css&quot;/&gt;\n",
              "    &lt;link rel=&quot;stylesheet&quot; href=&quot;https://netdna.bootstrapcdn.com/bootstrap/3.0.0/css/bootstrap-glyphicons.css&quot;/&gt;\n",
              "    &lt;link rel=&quot;stylesheet&quot; href=&quot;https://cdn.jsdelivr.net/npm/@fortawesome/fontawesome-free@6.2.0/css/all.min.css&quot;/&gt;\n",
              "    &lt;link rel=&quot;stylesheet&quot; href=&quot;https://cdnjs.cloudflare.com/ajax/libs/Leaflet.awesome-markers/2.0.2/leaflet.awesome-markers.css&quot;/&gt;\n",
              "    &lt;link rel=&quot;stylesheet&quot; href=&quot;https://cdn.jsdelivr.net/gh/python-visualization/folium/folium/templates/leaflet.awesome.rotate.min.css&quot;/&gt;\n",
              "    \n",
              "            &lt;meta name=&quot;viewport&quot; content=&quot;width=device-width,\n",
              "                initial-scale=1.0, maximum-scale=1.0, user-scalable=no&quot; /&gt;\n",
              "            &lt;style&gt;\n",
              "                #map_ea59e0254977218988b3b521623cf049 {\n",
              "                    position: relative;\n",
              "                    width: 100.0%;\n",
              "                    height: 100.0%;\n",
              "                    left: 0.0%;\n",
              "                    top: 0.0%;\n",
              "                }\n",
              "                .leaflet-container { font-size: 1rem; }\n",
              "            &lt;/style&gt;\n",
              "        \n",
              "&lt;/head&gt;\n",
              "&lt;body&gt;\n",
              "    \n",
              "    \n",
              "            &lt;div class=&quot;folium-map&quot; id=&quot;map_ea59e0254977218988b3b521623cf049&quot; &gt;&lt;/div&gt;\n",
              "        \n",
              "&lt;/body&gt;\n",
              "&lt;script&gt;\n",
              "    \n",
              "    \n",
              "            var map_ea59e0254977218988b3b521623cf049 = L.map(\n",
              "                &quot;map_ea59e0254977218988b3b521623cf049&quot;,\n",
              "                {\n",
              "                    center: [38.14455065, -90.5571432],\n",
              "                    crs: L.CRS.EPSG3857,\n",
              "                    zoom: 12,\n",
              "                    zoomControl: true,\n",
              "                    preferCanvas: false,\n",
              "                }\n",
              "            );\n",
              "\n",
              "            \n",
              "\n",
              "        \n",
              "    \n",
              "            var tile_layer_26dec1c2264f628f08add13015c3aa74 = L.tileLayer(\n",
              "                &quot;https://tile.openstreetmap.org/{z}/{x}/{y}.png&quot;,\n",
              "                {&quot;attribution&quot;: &quot;\\u0026copy; \\u003ca href=\\&quot;https://www.openstreetmap.org/copyright\\&quot;\\u003eOpenStreetMap\\u003c/a\\u003e contributors&quot;, &quot;detectRetina&quot;: false, &quot;maxNativeZoom&quot;: 19, &quot;maxZoom&quot;: 19, &quot;minZoom&quot;: 0, &quot;noWrap&quot;: false, &quot;opacity&quot;: 1, &quot;subdomains&quot;: &quot;abc&quot;, &quot;tms&quot;: false}\n",
              "            );\n",
              "        \n",
              "    \n",
              "            tile_layer_26dec1c2264f628f08add13015c3aa74.addTo(map_ea59e0254977218988b3b521623cf049);\n",
              "        \n",
              "    \n",
              "            var rectangle_104a019bd131679e65c6cc27018eb1b0 = L.rectangle(\n",
              "                [[38.12475729243628, -90.67622060756372], [38.12606819243628, -90.67420720756371]],\n",
              "                {&quot;bubblingMouseEvents&quot;: true, &quot;color&quot;: &quot;green&quot;, &quot;dashArray&quot;: null, &quot;dashOffset&quot;: null, &quot;fill&quot;: true, &quot;fillColor&quot;: &quot;green&quot;, &quot;fillOpacity&quot;: 0.2, &quot;fillRule&quot;: &quot;evenodd&quot;, &quot;lineCap&quot;: &quot;round&quot;, &quot;lineJoin&quot;: &quot;round&quot;, &quot;noClip&quot;: false, &quot;opacity&quot;: 1.0, &quot;smoothFactor&quot;: 1.0, &quot;stroke&quot;: true, &quot;weight&quot;: 3}\n",
              "            ).addTo(map_ea59e0254977218988b3b521623cf049);\n",
              "        \n",
              "    \n",
              "        var popup_ef2d661edad9224bd82b05755b2c5c0c = L.popup({&quot;maxWidth&quot;: &quot;100%&quot;});\n",
              "\n",
              "        \n",
              "            \n",
              "                var html_420715ce860d1c77a37583bbba99dbb1 = $(`&lt;div id=&quot;html_420715ce860d1c77a37583bbba99dbb1&quot; style=&quot;width: 100.0%; height: 100.0%;&quot;&gt;New Bounding Box2&lt;/div&gt;`)[0];\n",
              "                popup_ef2d661edad9224bd82b05755b2c5c0c.setContent(html_420715ce860d1c77a37583bbba99dbb1);\n",
              "            \n",
              "        \n",
              "\n",
              "        rectangle_104a019bd131679e65c6cc27018eb1b0.bindPopup(popup_ef2d661edad9224bd82b05755b2c5c0c)\n",
              "        ;\n",
              "\n",
              "        \n",
              "    \n",
              "    \n",
              "            var rectangle_7cb418dd2136d2dbe2cb015d8cd7cddc = L.rectangle(\n",
              "                [[38.1129483, -90.67987159853], [38.176153, -90.62282059853]],\n",
              "                {&quot;bubblingMouseEvents&quot;: true, &quot;color&quot;: &quot;green&quot;, &quot;dashArray&quot;: null, &quot;dashOffset&quot;: null, &quot;fill&quot;: true, &quot;fillColor&quot;: &quot;green&quot;, &quot;fillOpacity&quot;: 0.2, &quot;fillRule&quot;: &quot;evenodd&quot;, &quot;lineCap&quot;: &quot;round&quot;, &quot;lineJoin&quot;: &quot;round&quot;, &quot;noClip&quot;: false, &quot;opacity&quot;: 1.0, &quot;smoothFactor&quot;: 1.0, &quot;stroke&quot;: true, &quot;weight&quot;: 3}\n",
              "            ).addTo(map_ea59e0254977218988b3b521623cf049);\n",
              "        \n",
              "    \n",
              "        var popup_c1b1acac1baf8633430a6fc585b7ab8e = L.popup({&quot;maxWidth&quot;: &quot;100%&quot;});\n",
              "\n",
              "        \n",
              "            \n",
              "                var html_f5ac4593a4d59746c7db06ac91d9769c = $(`&lt;div id=&quot;html_f5ac4593a4d59746c7db06ac91d9769c&quot; style=&quot;width: 100.0%; height: 100.0%;&quot;&gt;New Bounding Box&lt;/div&gt;`)[0];\n",
              "                popup_c1b1acac1baf8633430a6fc585b7ab8e.setContent(html_f5ac4593a4d59746c7db06ac91d9769c);\n",
              "            \n",
              "        \n",
              "\n",
              "        rectangle_7cb418dd2136d2dbe2cb015d8cd7cddc.bindPopup(popup_c1b1acac1baf8633430a6fc585b7ab8e)\n",
              "        ;\n",
              "\n",
              "        \n",
              "    \n",
              "    \n",
              "            var marker_694e8637ca937fc2d7e9b90668ecc7f6 = L.marker(\n",
              "                [38.125, -90.675],\n",
              "                {}\n",
              "            ).addTo(map_ea59e0254977218988b3b521623cf049);\n",
              "        \n",
              "    \n",
              "            var icon_08a977ab4d16116801844060faf5cb1e = L.AwesomeMarkers.icon(\n",
              "                {&quot;extraClasses&quot;: &quot;fa-rotate-0&quot;, &quot;icon&quot;: &quot;info-sign&quot;, &quot;iconColor&quot;: &quot;white&quot;, &quot;markerColor&quot;: &quot;red&quot;, &quot;prefix&quot;: &quot;glyphicon&quot;}\n",
              "            );\n",
              "            marker_694e8637ca937fc2d7e9b90668ecc7f6.setIcon(icon_08a977ab4d16116801844060faf5cb1e);\n",
              "        \n",
              "    \n",
              "        var popup_e76e5b16625bc70d123e7e0dca1f6a6e = L.popup({&quot;maxWidth&quot;: &quot;100%&quot;});\n",
              "\n",
              "        \n",
              "            \n",
              "                var html_a0775bda5be07cc2dbc5d304a5e1dbf0 = $(`&lt;div id=&quot;html_a0775bda5be07cc2dbc5d304a5e1dbf0&quot; style=&quot;width: 100.0%; height: 100.0%;&quot;&gt;Actual Coordinate&lt;/div&gt;`)[0];\n",
              "                popup_e76e5b16625bc70d123e7e0dca1f6a6e.setContent(html_a0775bda5be07cc2dbc5d304a5e1dbf0);\n",
              "            \n",
              "        \n",
              "\n",
              "        marker_694e8637ca937fc2d7e9b90668ecc7f6.bindPopup(popup_e76e5b16625bc70d123e7e0dca1f6a6e)\n",
              "        ;\n",
              "\n",
              "        \n",
              "    \n",
              "&lt;/script&gt;\n",
              "&lt;/html&gt;\" style=\"position:absolute;width:100%;height:100%;left:0;top:0;border:none !important;\" allowfullscreen webkitallowfullscreen mozallowfullscreen></iframe></div></div>"
            ]
          },
          "metadata": {},
          "execution_count": 182
        }
      ]
    }
  ]
}