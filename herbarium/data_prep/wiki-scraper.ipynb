{
 "cells": [
  {
   "cell_type": "code",
   "execution_count": 33,
   "metadata": {},
   "outputs": [
    {
     "name": "stdout",
     "output_type": "stream",
     "text": [
      "The autoreload extension is already loaded. To reload it, use:\n",
      "  %reload_ext autoreload\n"
     ]
    }
   ],
   "source": [
    "%load_ext autoreload\n",
    "%autoreload 2\n"
   ]
  },
  {
   "cell_type": "code",
   "execution_count": 34,
   "metadata": {},
   "outputs": [],
   "source": [
    "import pandas as pd\n",
    "import wiki_scraper as ws"
   ]
  },
  {
   "cell_type": "markdown",
   "metadata": {},
   "source": [
    "Dataset of all species and their wikipedia text descriptions\n",
    "\n",
    "TODO:\n",
    "Herbarium\n",
    "- Download dataset\n",
    "    - Read in all species names\n",
    "    - Build out a full species names csv\n",
    "\n",
    "- Wikipedia scrape\n",
    "\n",
    "\n",
    "    \n",
    "Note:\n",
    "- Scrape sections: Habitat, Distribution and habitat, Description, Ecology, Distribution\n",
    "- Order of usefulness: Habitat, Distribution and habitat, Description, Ecology, Distribution?"
   ]
  },
  {
   "cell_type": "markdown",
   "metadata": {},
   "source": [
    "NMV dataset"
   ]
  },
  {
   "cell_type": "code",
   "execution_count": null,
   "metadata": {},
   "outputs": [],
   "source": [
    "# Extract species from NMV dataset\n",
    "ws.extract_unique_species_to_csv(base_url = \"https://huggingface.co/api/datasets/andyvhuynh/NatureMultiView/parquet/default/train\", \n",
    "    species_csv_output_path = \"../data/nmv_unique_species.csv\", \n",
    "    log_file_path = \"../data/nmv_processed_files_log.txt\"\n",
    "    )"
   ]
  },
  {
   "cell_type": "code",
   "execution_count": 217,
   "metadata": {},
   "outputs": [
    {
     "name": "stderr",
     "output_type": "stream",
     "text": [
      "100%|██████████| 8950/8950 [45:43<00:00,  3.26it/s]  "
     ]
    },
    {
     "name": "stdout",
     "output_type": "stream",
     "text": [
      "Processing complete!\n"
     ]
    },
    {
     "name": "stderr",
     "output_type": "stream",
     "text": [
      "\n"
     ]
    }
   ],
   "source": [
    "# Build wiki data from species csv\n",
    "ws.build_wiki_data(file_path = '../data/nmv_unique_species.csv', \n",
    "    output_file_path = '../data/nmv_species_wiki.csv', \n",
    "    sections = ['habitat', 'distribution and habitat', 'description', 'ecology', 'distribution'])"
   ]
  },
  {
   "cell_type": "code",
   "execution_count": 222,
   "metadata": {},
   "outputs": [
    {
     "data": {
      "text/plain": [
       "(8705, 7)"
      ]
     },
     "metadata": {},
     "output_type": "display_data"
    },
    {
     "data": {
      "text/plain": [
       "0.9726"
      ]
     },
     "metadata": {},
     "output_type": "display_data"
    },
    {
     "data": {
      "text/html": [
       "<div>\n",
       "<style scoped>\n",
       "    .dataframe tbody tr th:only-of-type {\n",
       "        vertical-align: middle;\n",
       "    }\n",
       "\n",
       "    .dataframe tbody tr th {\n",
       "        vertical-align: top;\n",
       "    }\n",
       "\n",
       "    .dataframe thead th {\n",
       "        text-align: right;\n",
       "    }\n",
       "</style>\n",
       "<table border=\"1\" class=\"dataframe\">\n",
       "  <thead>\n",
       "    <tr style=\"text-align: right;\">\n",
       "      <th></th>\n",
       "      <th>species</th>\n",
       "      <th>habitat</th>\n",
       "      <th>distribution and habitat</th>\n",
       "      <th>description</th>\n",
       "      <th>ecology</th>\n",
       "      <th>distribution</th>\n",
       "      <th>header</th>\n",
       "    </tr>\n",
       "  </thead>\n",
       "  <tbody>\n",
       "    <tr>\n",
       "      <th>0</th>\n",
       "      <td>Sequoia sempervirens</td>\n",
       "      <td>NaN</td>\n",
       "      <td>Coast redwoods occupy a narrow strip of land a...</td>\n",
       "      <td>The coast redwood normally reaches a height of...</td>\n",
       "      <td>NaN</td>\n",
       "      <td>NaN</td>\n",
       "      <td>NaN</td>\n",
       "    </tr>\n",
       "    <tr>\n",
       "      <th>1</th>\n",
       "      <td>Brodiaea elegans</td>\n",
       "      <td>NaN</td>\n",
       "      <td>NaN</td>\n",
       "      <td>Brodiaea elegans is a perennial that produces ...</td>\n",
       "      <td>NaN</td>\n",
       "      <td>NaN</td>\n",
       "      <td>NaN</td>\n",
       "    </tr>\n",
       "    <tr>\n",
       "      <th>2</th>\n",
       "      <td>Triteleia laxa</td>\n",
       "      <td>NaN</td>\n",
       "      <td>NaN</td>\n",
       "      <td>NaN</td>\n",
       "      <td>NaN</td>\n",
       "      <td>NaN</td>\n",
       "      <td>Triteleia laxa (previously Brodiaea laxa) is a...</td>\n",
       "    </tr>\n",
       "    <tr>\n",
       "      <th>3</th>\n",
       "      <td>Wyethia angustifolia</td>\n",
       "      <td>NaN</td>\n",
       "      <td>NaN</td>\n",
       "      <td>NaN</td>\n",
       "      <td>NaN</td>\n",
       "      <td>NaN</td>\n",
       "      <td>Wyethia angustifolia is a species of flowering...</td>\n",
       "    </tr>\n",
       "    <tr>\n",
       "      <th>4</th>\n",
       "      <td>Epilobium ciliatum</td>\n",
       "      <td>NaN</td>\n",
       "      <td>Epilobium ciliatum is native to the southern p...</td>\n",
       "      <td>Epilobium ciliatum is a clumping perennial oft...</td>\n",
       "      <td>NaN</td>\n",
       "      <td>NaN</td>\n",
       "      <td>NaN</td>\n",
       "    </tr>\n",
       "  </tbody>\n",
       "</table>\n",
       "</div>"
      ],
      "text/plain": [
       "                species habitat  \\\n",
       "0  Sequoia sempervirens     NaN   \n",
       "1      Brodiaea elegans     NaN   \n",
       "2        Triteleia laxa     NaN   \n",
       "3  Wyethia angustifolia     NaN   \n",
       "4    Epilobium ciliatum     NaN   \n",
       "\n",
       "                            distribution and habitat  \\\n",
       "0  Coast redwoods occupy a narrow strip of land a...   \n",
       "1                                                NaN   \n",
       "2                                                NaN   \n",
       "3                                                NaN   \n",
       "4  Epilobium ciliatum is native to the southern p...   \n",
       "\n",
       "                                         description ecology distribution  \\\n",
       "0  The coast redwood normally reaches a height of...     NaN          NaN   \n",
       "1  Brodiaea elegans is a perennial that produces ...     NaN          NaN   \n",
       "2                                                NaN     NaN          NaN   \n",
       "3                                                NaN     NaN          NaN   \n",
       "4  Epilobium ciliatum is a clumping perennial oft...     NaN          NaN   \n",
       "\n",
       "                                              header  \n",
       "0                                                NaN  \n",
       "1                                                NaN  \n",
       "2  Triteleia laxa (previously Brodiaea laxa) is a...  \n",
       "3  Wyethia angustifolia is a species of flowering...  \n",
       "4                                                NaN  "
      ]
     },
     "execution_count": 222,
     "metadata": {},
     "output_type": "execute_result"
    }
   ],
   "source": [
    "output_file = pd.read_csv(output_file_path)\n",
    "display(output_file.shape, round(output_file.shape[0] / species_df.shape[0],4))\n",
    "output_file.head()"
   ]
  },
  {
   "cell_type": "code",
   "execution_count": null,
   "metadata": {},
   "outputs": [],
   "source": []
  }
 ],
 "metadata": {
  "kernelspec": {
   "display_name": "herb",
   "language": "python",
   "name": "python3"
  },
  "language_info": {
   "codemirror_mode": {
    "name": "ipython",
    "version": 3
   },
   "file_extension": ".py",
   "mimetype": "text/x-python",
   "name": "python",
   "nbconvert_exporter": "python",
   "pygments_lexer": "ipython3",
   "version": "3.12.7"
  }
 },
 "nbformat": 4,
 "nbformat_minor": 2
}
